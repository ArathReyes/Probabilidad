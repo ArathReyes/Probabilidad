{
 "cells": [
  {
   "cell_type": "markdown",
   "metadata": {},
   "source": [
    "# Estadísticos de Orden y Esperanza Condicional"
   ]
  },
  {
   "cell_type": "markdown",
   "metadata": {},
   "source": [
    "4. Dos jugadores y el banco lanzan un dado cada uno. Cada jugador le gana al banco si su tirada es mayor que la del banco. Sea $\\mathbb{I}_i = 1, i = 1, 2$ si el i−esimo jugador le ganó al banco y cero si no. Calcula  $Cov(\\mathbb{I}_1, \\mathbb{I}_2)$ y explica por que debe ser positiva."
   ]
  },
  {
   "cell_type": "code",
   "execution_count": 1,
   "metadata": {},
   "outputs": [],
   "source": [
    "import pandas as pd\n",
    "import numpy as np\n",
    "import seaborn as sns\n",
    "import matplotlib.pyplot as plt\n",
    "    from random import randint"
   ]
  },
  {
   "cell_type": "code",
   "execution_count": 2,
   "metadata": {},
   "outputs": [],
   "source": [
    "class Apuesta:\n",
    "    \n",
    "    def __init__(self):\n",
    "        self.Banco = None\n",
    "        self.Jugador1 = None\n",
    "        self.Jugador2 = None\n",
    "        self.PNL = None\n",
    "        \n",
    "    def compute(self):\n",
    "        self.Banco = randint(1,6)\n",
    "        self.Jugador1 = randint(1,6)\n",
    "        self.Jugador2 = randint(1,6)\n",
    "        \n",
    "        self.PNL = (1 if self.Jugador1 > self.Banco else 0,\\\n",
    "                    1 if self.Jugador2 > self.Banco else 0)\n",
    "    def __str__(self):\n",
    "        string1 = \"El Jugador 1 le ganó al Banco\" if self.PNL[0] == 1 else \"El Jugador 1 perdió\"\n",
    "        string2 = \"El Jugador 2 le ganó al Banco\" if self.PNL[1] == 1 else \"El Jugador 2 perdió\"\n",
    "        return string1 +\"\\n\"+ string2"
   ]
  },
  {
   "cell_type": "code",
   "execution_count": 3,
   "metadata": {},
   "outputs": [
    {
     "name": "stdout",
     "output_type": "stream",
     "text": [
      "El Jugador 1 le ganó al Banco\n",
      "El Jugador 2 perdió\n"
     ]
    }
   ],
   "source": [
    "Apu = Apuesta()\n",
    "Apu.compute()\n",
    "print(Apu)"
   ]
  },
  {
   "cell_type": "code",
   "execution_count": 4,
   "metadata": {},
   "outputs": [],
   "source": [
    "m = 1000000\n",
    "P1 = []\n",
    "P2 = []\n",
    "for _ in range(m):\n",
    "    Apu = Apuesta()\n",
    "    Apu.compute()\n",
    "    P1.append(Apu.PNL[0])\n",
    "    P2.append(Apu.PNL[1])\n",
    "df = pd.DataFrame({\"Jugador 1\":P1,\"Jugador 2\":P2})"
   ]
  },
  {
   "cell_type": "code",
   "execution_count": 5,
   "metadata": {},
   "outputs": [
    {
     "data": {
      "text/html": [
       "<div>\n",
       "<style scoped>\n",
       "    .dataframe tbody tr th:only-of-type {\n",
       "        vertical-align: middle;\n",
       "    }\n",
       "\n",
       "    .dataframe tbody tr th {\n",
       "        vertical-align: top;\n",
       "    }\n",
       "\n",
       "    .dataframe thead th {\n",
       "        text-align: right;\n",
       "    }\n",
       "</style>\n",
       "<table border=\"1\" class=\"dataframe\">\n",
       "  <thead>\n",
       "    <tr style=\"text-align: right;\">\n",
       "      <th></th>\n",
       "      <th>Jugador 1</th>\n",
       "      <th>Jugador 2</th>\n",
       "    </tr>\n",
       "  </thead>\n",
       "  <tbody>\n",
       "    <tr>\n",
       "      <th>Jugador 1</th>\n",
       "      <td>0.243035</td>\n",
       "      <td>0.081198</td>\n",
       "    </tr>\n",
       "    <tr>\n",
       "      <th>Jugador 2</th>\n",
       "      <td>0.081198</td>\n",
       "      <td>0.243085</td>\n",
       "    </tr>\n",
       "  </tbody>\n",
       "</table>\n",
       "</div>"
      ],
      "text/plain": [
       "           Jugador 1  Jugador 2\n",
       "Jugador 1   0.243035   0.081198\n",
       "Jugador 2   0.081198   0.243085"
      ]
     },
     "execution_count": 5,
     "metadata": {},
     "output_type": "execute_result"
    }
   ],
   "source": [
    "df.cov() #35/432"
   ]
  },
  {
   "cell_type": "markdown",
   "metadata": {},
   "source": [
    "13. Hay tres autobuses estropeados en un camino de $L$ km de longitud, distribuidas aleatoriamente. Encuentra la probabilidad de que no haya dos de ellos a una distancia menor a $d$, donde $0 \\leq d\\leq \\frac{L}{2}$ km."
   ]
  },
  {
   "cell_type": "code",
   "execution_count": 6,
   "metadata": {},
   "outputs": [],
   "source": [
    "from scipy.stats import uniform\n",
    "def Autobuses(nsim, L,d):\n",
    "    resultado = np.zeros(nsim)\n",
    "    for i in range(nsim):\n",
    "        X = uniform.rvs(0,L, size=3)\n",
    "        X.sort()\n",
    "        resultado[i] = 1 if (X[1] - X[0] > d and X[2] - X[1] > d) else 0\n",
    "    return resultado.mean()"
   ]
  },
  {
   "cell_type": "code",
   "execution_count": 7,
   "metadata": {},
   "outputs": [
    {
     "data": {
      "text/plain": [
       "0.355"
      ]
     },
     "execution_count": 7,
     "metadata": {},
     "output_type": "execute_result"
    }
   ],
   "source": [
    "nsim = 1000\n",
    "L = 10\n",
    "d = 1.5\n",
    "Autobuses(nsim,L,d)"
   ]
  },
  {
   "cell_type": "code",
   "execution_count": 8,
   "metadata": {},
   "outputs": [
    {
     "data": {
      "text/plain": [
       "0.3429999999999999"
      ]
     },
     "execution_count": 8,
     "metadata": {},
     "output_type": "execute_result"
    }
   ],
   "source": [
    "    (1- (2*d/L))**3"
   ]
  },
  {
   "cell_type": "markdown",
   "metadata": {},
   "source": [
    "10. La cantidad de personas que se suben a un elevador en la planta baja se distribuye como Y ∼ Poisson (10). Si hay N pisos en el edificio, y las personas se bajan en un piso escogido uniformemente entre los N pisos, independientemente de las demas personas y de cuántas personas son, ¿cuál es el número esperado de paradas que hará el elevador?"
   ]
  },
  {
   "cell_type": "code",
   "execution_count": 9,
   "metadata": {},
   "outputs": [],
   "source": [
    "from scipy.stats import randint, poisson\n",
    "\n",
    "def Elevador(nsim, N, lam = 10):\n",
    "    nparadas = np.zeros(nsim)\n",
    "    for i in range(nsim):\n",
    "        Y = poisson.rvs(lam, size=1)\n",
    "        paradas = randint.rvs(1, N+1, size = Y)\n",
    "        nparadas[i] = len(set(paradas))\n",
    "    return nparadas.mean()"
   ]
  },
  {
   "cell_type": "code",
   "execution_count": 10,
   "metadata": {},
   "outputs": [
    {
     "data": {
      "text/plain": [
       "6.3386"
      ]
     },
     "execution_count": 10,
     "metadata": {},
     "output_type": "execute_result"
    }
   ],
   "source": [
    "N = 10\n",
    "lam = 10\n",
    "nsim = 10000\n",
    "Elevador(nsim,N,lam)"
   ]
  },
  {
   "cell_type": "code",
   "execution_count": 11,
   "metadata": {
    "scrolled": true
   },
   "outputs": [
    {
     "data": {
      "text/plain": [
       "6.321205588285577"
      ]
     },
     "execution_count": 11,
     "metadata": {},
     "output_type": "execute_result"
    }
   ],
   "source": [
    "N * (1 - np.exp(-lam /N))"
   ]
  },
  {
   "cell_type": "markdown",
   "metadata": {},
   "source": [
    "11. Diez cazadores esperan una parvada de 10 patos. Cuando la ven, cada cazador dispara una vez y escoge un pato independientemente de los otros cazadores. Si cada cazador le atina a su objetivo con probabilidad $p$, calcula el numero esperado de patos que escaparán."
   ]
  },
  {
   "cell_type": "code",
   "execution_count": 12,
   "metadata": {},
   "outputs": [],
   "source": [
    "from scipy.stats import bernoulli\n",
    "def Caza(p,n_patos = 10, n_cazadores = 10):\n",
    "    patos = randint.rvs(1, n_patos+1, size = n_cazadores)\n",
    "    cazadores = bernoulli.rvs(p, size=n_cazadores)\n",
    "    df = pd.DataFrame({\"Patos\":patos, \"Cazadores\":cazadores})\n",
    "    df = df.groupby(['Patos']).max()\n",
    "    return n_patos - df[\"Cazadores\"].sum()"
   ]
  },
  {
   "cell_type": "code",
   "execution_count": 13,
   "metadata": {},
   "outputs": [
    {
     "name": "stdout",
     "output_type": "stream",
     "text": [
      "5.9858\n"
     ]
    }
   ],
   "source": [
    "n = 10000\n",
    "p = 0.5\n",
    "resultado = np.zeros(n)\n",
    "for i in range(n):\n",
    "    resultado[i] = Caza(p)\n",
    "print(resultado.mean())"
   ]
  },
  {
   "cell_type": "code",
   "execution_count": 14,
   "metadata": {},
   "outputs": [
    {
     "data": {
      "text/plain": [
       "5.987369392383787"
      ]
     },
     "execution_count": 14,
     "metadata": {},
     "output_type": "execute_result"
    }
   ],
   "source": [
    "10*((1- (p/10))**10)"
   ]
  },
  {
   "cell_type": "markdown",
   "metadata": {},
   "source": [
    "7. Sean $X_1, X_2$ y $X_3$ variables aleatorias independientes con distribucion $Unif(0,1)$. Encuentra la probabilidad de que la mayor de ellas sea mayor que la suma de las otras dos."
   ]
  },
  {
   "cell_type": "code",
   "execution_count": 15,
   "metadata": {},
   "outputs": [
    {
     "name": "stdout",
     "output_type": "stream",
     "text": [
      "La probabilidad es de 0.499913\n"
     ]
    }
   ],
   "source": [
    "l = []\n",
    "n = 1000000\n",
    "\n",
    "for _ in range(n):\n",
    "    m = np.random.uniform(0,1,3)\n",
    "    m.sort()\n",
    "    l.append(1 if (m[0]+m[1] <= m[2]) else 0)\n",
    "    \n",
    "print(\"La probabilidad es de {0}\".format(np.mean(l)))"
   ]
  },
  {
   "cell_type": "markdown",
   "metadata": {},
   "source": [
    "11. Sean $X_1, \\cdots, X_n$ v.a.i.i.d. continuas con funcion de distribución $F$, y sean $X_{(i)}$ sus estadísticos de orden. Sea $X$ independiente de las $X_i$ con la misma distribucion que $X_1$. Calcula:\n",
    "\n",
    "(a) $\\mathbb{P}(X > X_{(n)})$\n",
    "\n",
    "(b) $\\mathbb{P}(X > X_{(1)})$"
   ]
  },
  {
   "cell_type": "code",
   "execution_count": 16,
   "metadata": {},
   "outputs": [
    {
     "name": "stdout",
     "output_type": "stream",
     "text": [
      "La proba de que X>X(n) es: 0.1456\n",
      "La proba de que X>X(1) es: 0.8596\n",
      "La proba de que X>X(n) es: 0.14285714285714285\n",
      "La proba de que X>X(1) es: 0.8571428571428571\n"
     ]
    }
   ],
   "source": [
    "from numpy.random import uniform\n",
    "from scipy.stats import norm, expon, gamma, chi2, t, uniform, bernoulli, binom, geom, poisson\n",
    "\n",
    "m = 10000\n",
    "n = 6\n",
    "\n",
    "df = pd.DataFrame()\n",
    "l_n = []\n",
    "l_1 = []\n",
    "\n",
    "for _ in range(m):\n",
    "    va = norm(0,1)\n",
    "    #va = expon(2)\n",
    "    muestra = va.rvs(n)\n",
    "    X = va.rvs(1)\n",
    "    #muestra= uniform(0,1,n)\n",
    "    #X = uniform(0,1,1)\n",
    "    \n",
    "    X_n = max(muestra)\n",
    "    X_1 = min(muestra)\n",
    "    \n",
    "    l_n.append(1 if (X>X_n) else 0)\n",
    "    l_1.append(1 if (X>X_1) else 0)\n",
    "    \n",
    "df['Maximo'] = l_n\n",
    "df['Minimo'] = l_1\n",
    "\n",
    "print('La proba de que X>X(n) es: {0}\\nLa proba de que X>X(1) es: {1}'.format(df['Maximo'].mean(),df['Minimo'].mean()))\n",
    "print('La proba de que X>X(n) es: {0}\\nLa proba de que X>X(1) es: {1}'.format(1/(n+1),n/(n+1)))\n"
   ]
  }
 ],
 "metadata": {
  "kernelspec": {
   "display_name": "Python 3",
   "language": "python",
   "name": "python3"
  },
  "language_info": {
   "codemirror_mode": {
    "name": "ipython",
    "version": 3
   },
   "file_extension": ".py",
   "mimetype": "text/x-python",
   "name": "python",
   "nbconvert_exporter": "python",
   "pygments_lexer": "ipython3",
   "version": "3.8.5"
  }
 },
 "nbformat": 4,
 "nbformat_minor": 4
}
