{
 "cells": [
  {
   "cell_type": "markdown",
   "metadata": {},
   "source": [
    "# __Introducción a Python__"
   ]
  },
  {
   "cell_type": "markdown",
   "metadata": {},
   "source": [
    "# Índice"
   ]
  },
  {
   "cell_type": "markdown",
   "metadata": {},
   "source": [
    "- [Conociendo Python](#Conociendo-Python)\n",
    "    - [Anaconda](#Anaconda)\n",
    "    - [¿Qué es Python?](#¿Qué-es-Python?)\n",
    "    - [Ventajas](#Ventajas)\n",
    "    - [Desventajas](#Desventajas)\n",
    "    - [¿En qué areas se usa Python?](#¿En-qué-areas-se-usa-Python?)\n",
    "- [Programación](#Programación)\n",
    "    - [Tipos de datos](#Tipos-de-datos)\n",
    "    - [Tipos de estructuras](#Tipos-de-estructuras)\n",
    "        - [Tuplas](#Tuplas)\n",
    "        - [Diccionario](#Diccionario)\n",
    "        - [Lista](#Lista)\n",
    "    - [Operadores](#Operadores)\n",
    "        - [Operadores aritméticos](#Operadores-aritméticos)\n",
    "        - [Operadores comparativos](#Operadores-comparativos)\n",
    "        - [Operadores de asignación](#Operadores-de-asignación)\n",
    "        - [Operadores lógicos](#Operadores-lógicos)\n",
    "    - [Ciclos](#Ciclos)\n",
    "        - [while](#while)\n",
    "        - [for](#for)\n",
    "    - [Condicionales](#Condicionales)\n",
    "        - [if](#if)\n",
    "        - [elif](#elif)\n",
    "    - [Funciones](#Funciones)\n",
    "    - [Otras Funciones](#Otras-Funciones)\n",
    "    - [Clases](#Clases)\n",
    "    - [Módulos](#Módulos)\n",
    "        - [Pandas](#Pandas)\n",
    "        - [NumPy](#NumPy)\n",
    "        - [Matplotlib / Seaborn](#Matplotlib-/-Seaborn)"
   ]
  },
  {
   "cell_type": "markdown",
   "metadata": {},
   "source": [
    "# Conociendo Python"
   ]
  },
  {
   "cell_type": "markdown",
   "metadata": {},
   "source": [
    "## Anaconda"
   ]
  },
  {
   "cell_type": "markdown",
   "metadata": {},
   "source": [
    "<img src = \"https://upload.wikimedia.org/wikipedia/en/c/cd/Anaconda_Logo.png\"/>"
   ]
  },
  {
   "cell_type": "markdown",
   "metadata": {},
   "source": [
    "Anaconda Navigator es una GUI ( _Grafical User Interface_ ), es decir una interfaz gráfica de escritorio que permite manejar paquetes y lanzar aplicaciones. Una vez que abrimos Anaconda tenemos diversas aplicaciones:"
   ]
  },
  {
   "cell_type": "markdown",
   "metadata": {},
   "source": [
    "<img src = \"https://raw.githubusercontent.com/rafneta/CienciaDatosPythonCIDE/master/imagenes/ana_mac.png\"/>"
   ]
  },
  {
   "cell_type": "markdown",
   "metadata": {},
   "source": [
    "Aquí encontraran links que les serán de utilidad:\n",
    "* Descargar Anaconda <a href=\"https://www.anaconda.com/products/individual-d\">(link)</a>\n",
    "* __Video__: Installar Anaconda, usar Jupyter y Spyder <a href=\"https://www.youtube.com/watch?v=52h3r_lROGY&ab_channel=BitKeroAnalytics\">(link)</a>"
   ]
  },
  {
   "cell_type": "markdown",
   "metadata": {},
   "source": [
    "En el curso, vamos a ocupar __Jupyter Notebook__\n",
    "\n",
    "La aplicacion proviene de un proyecto nacido en 2014: __Proyecto Jupyter__. Este proyeto tiene como objetivo principal brindar apoyo a la ciencia de datos y a la computación científica de una manera interactiva. En el proyecto se desarrollaron diversos productos, entre ellos __Jupyter Notebook__ "
   ]
  },
  {
   "cell_type": "markdown",
   "metadata": {},
   "source": [
    "## ¿Qué es Python?"
   ]
  },
  {
   "cell_type": "markdown",
   "metadata": {},
   "source": [
    "<img src = \"https://upload.wikimedia.org/wikipedia/commons/c/c3/Python-logo-notext.svg\"/>"
   ]
  },
  {
   "cell_type": "markdown",
   "metadata": {},
   "source": [
    "Python es un lenguaje de programación multipropósito de alto nivel, que se utiliza en una amplia gama de dominios y campos técnicos. Según su sitio oficial, Python se define como:\n",
    "\n",
    "_Python is an interpreted, object-oriented, high-level programming language with dynamic semantics. Its high-level built in data structures, combined with dynamic typing and dynamic binding, make it very attractive for Rapid Application Development, as well as for use as a scripting or glue language to connect existing components together. Python's simple, easy to learn syntax emphasizes readability and therefore reduces the cost of program maintenance. Python supports modules and packages, which encourages program modularity and code reuse. The Python interpreter and the extensive standard library are available in source or binary form without charge for all major platforms, and can be freely distributed._"
   ]
  },
  {
   "cell_type": "markdown",
   "metadata": {},
   "source": [
    "## Ventajas"
   ]
  },
  {
   "cell_type": "markdown",
   "metadata": {},
   "source": [
    "* __Open source:__ Python se desarrolla bajo una licencia de Open source o código abierto aprobada por OSI. Esto quiere decir que se puede usar y distribuir de manera libre y gratuita. \n",
    "\n",
    "\n",
    "* __Versatilidad:__ Con Python podrás trabajar en todo tipo de proyectos, ya que cuenta con un amplio catálogo de librerías que te permitiran explorar diferentes terrenos (_profundizaremos en esto más adelante_).\n",
    "\n",
    "\n",
    "* __Simplicidad:__ Python se destaca por su simplicidad en su versión vanilla así como en cada una de sus librerías más destacadas. Lo cual permite un gozar cada vez que sea realiza un proyecto así como mejorar la productividad y alcanzar más con menos.\n",
    "\n",
    "\n",
    "* __Comunidad:__ Su gran comunidad permite encontrar mayor alcance para tu experincia programando en este lenguaje, por ello existe una gran variedad de librerías con desarrollo y actualizaciones constantes. \n",
    "\n",
    "\n",
    "* __Multiparadigma:__ Python soporta múltiples paradigmas de programación: programación orientada a objetos, programación imperativa, aunque para utilizar algunas es necesario instalar extenciones adicionales.\n",
    "\n",
    "\n",
    "* __Tipado dinámico:__ Decimos que un lenguaje es de tipado dinámico, cuando una variable  puede tomar diferentes valores de distintos tipos de datos en cualquier momento:"
   ]
  },
  {
   "cell_type": "code",
   "execution_count": 1,
   "metadata": {},
   "outputs": [
    {
     "name": "stdout",
     "output_type": "stream",
     "text": [
      "1\n"
     ]
    }
   ],
   "source": [
    "x = 1\n",
    "print(x)"
   ]
  },
  {
   "cell_type": "code",
   "execution_count": 2,
   "metadata": {},
   "outputs": [
    {
     "name": "stdout",
     "output_type": "stream",
     "text": [
      "Hola Mundo\n"
     ]
    }
   ],
   "source": [
    "x = \"Hola Mundo\"\n",
    "print(x)"
   ]
  },
  {
   "cell_type": "markdown",
   "metadata": {},
   "source": [
    "* __Multiplataforma:__ Python se puede ejecutar en cualquier sistema operativo (Windows, Linux y Mac)\n",
    "\n",
    "\n",
    "* __Identation aware:__ A diferencia de otros lengajes de programación, Python ocupa sangrías (identaciones) para marcar bloques de código, en lugar de parentésis, llaves, etc. Esto ayuda a que el código se vea más ordenado y fácil de leer. "
   ]
  },
  {
   "cell_type": "markdown",
   "metadata": {},
   "source": [
    "<div class = \"alert alert-block alert-info\">\n",
    "<b>Nota:</b> Es muy importante tener en cuenta este último punto, ya que las primeras veces programando en Python es común caer en este error. \n",
    "</div>"
   ]
  },
  {
   "cell_type": "markdown",
   "metadata": {},
   "source": [
    "* __Está de Moda:__ Es el tercer lenguaje de programación más popular después de _JavaScript_ y _HTML/CSS_.\n",
    "* __Librerías Populares:__ Cuenta con algunas de las librerías más populares del mercado, entre ellas:\n",
    "    - Pandas\n",
    "    - NumPy\n",
    "    - TensorFlow\n",
    "    - Keras\n",
    "    - PyTorch\n",
    "* __Uno de los favoritos:__ Es uno de los lenguajes más amados por la comunidad en general y el más deseado para trabajar en la comunidad de desarrolladores.\n",
    "\n",
    "_(Toda esta información fue obtenida por la encuesta de Stack Overflow en 2021, consulta <a href=\"https://insights.stackoverflow.com/survey/2021#most-loved-dreaded-and-wanted-language-want\">aquí</a>)_"
   ]
  },
  {
   "cell_type": "markdown",
   "metadata": {},
   "source": [
    "## Desventajas"
   ]
  },
  {
   "cell_type": "markdown",
   "metadata": {},
   "source": [
    "* __Velocidad:__ En general, Python es más lento que otros lenguajes de programación, lo cual podría frenar el alcance de tus proyectos.\n",
    "\n",
    "<div class = \"alert alert-block alert-info\">\n",
    "<b>Nota:</b> Gracias a esto, se han desarrollado herramientas que mejoren la velocidad de Python como <a href=\"https://cython.org/\">Cython</a>. \n",
    "</div>\n",
    "\n",
    "* __Consumo en Memoria:__ Python tiene la gran desventaja de utilizar muchos recursos de la memoria, lo cual no debería de ser tu primera opción para desarrollar proyectos con alto uso en memoria.\n",
    "\n",
    "\n",
    "* __Simplicidad:__ _¿Acaso no mencionamos que esto era una ventaja?_ Así es, sin embargo, también puede ser una desventaja, ya que cuando buscamos realizar tareas más complidas en Python, es posible que nos encontremos en un problema ya que dada la simplicidad del mismo la personalización es algo no siempre está al alcance. "
   ]
  },
  {
   "cell_type": "markdown",
   "metadata": {},
   "source": [
    "## ¿En qué areas se usa Python?"
   ]
  },
  {
   "cell_type": "markdown",
   "metadata": {},
   "source": [
    "### Machine Learning\n",
    "\n",
    "<img src = \"https://hardzone.es/app/uploads-hardzone.es/2021/05/Machine-Learning.jpg\"/>\n",
    "\n",
    "Si existe un área donde destaque Python es en Machine Learning. Esto se ha logrado por medio de las siguientes librerías:\n",
    "\n",
    "* <a href=\"https://scikit-learn.org/stable/\">Scikit-Learn</a>\n",
    "* <a href=\"https://www.tensorflow.org/\">TensorFlow</a>\n",
    "* <a href=\"https://keras.io/\">Keras</a>\n",
    "* <a href=\"https://pytorch.org/\">PyTorch</a>"
   ]
  },
  {
   "cell_type": "markdown",
   "metadata": {},
   "source": [
    "### Ciencia de Datos\n",
    "<img src = \"https://www.palermo.edu/Archivos_content/2019/cursos/ingenieria/datascience/programa-fundamentos-data-science-up.jpg\"/>\n",
    "\n",
    "Librerías relevantes:\n",
    "\n",
    "*  <a href= https://pandas.pydata.org/>Pandas</a>  _(Análisis y Manipulación de Datos)_\n",
    "* <a href= https://numpy.org/>NumPy</a> _(Algebra Lineal / Análisis Numérico)_\n",
    "* <a href= https://www.scipy.org/>SciPy</a> _(Optimización / Estadística)_\n",
    "* <a href = https://www.statsmodels.org/stable/index.html>StatsModels</a> _(Estadística)_\n",
    "* <a href=https://matplotlib.org/>Matplotlib</a> _(Visualización de Datos)_\n",
    "* <a href= http://seaborn.pydata.org/index.html>Seaborn</a> _(Visualización de Datos)_\n"
   ]
  },
  {
   "cell_type": "markdown",
   "metadata": {},
   "source": [
    "### Desarrollo Web\n",
    "<img src = \"https://www.hazunaweb.com/imagenes/los-5-mejores-lenguajes-de-desarrollo-web.jpg\"/>\n",
    "Librerías relevantes:\n",
    "\n",
    "* <a href= https://www.djangoproject.com/>Django</a>\n",
    "* <a href= https://flask.palletsprojects.com/en/2.0.x/>Flask</a>"
   ]
  },
  {
   "cell_type": "markdown",
   "metadata": {},
   "source": [
    "Otros:\n",
    "\n",
    "* <a href=https://www.sqlalchemy.org/>SQL-Alchemy</a> _(Conección con Bases de Datos)_\n",
    "* <a href=https://www.pyxll.com/>PyXLL</a> _(Reemplazo  de VBA)_\n",
    "* <a href= https://www.quantlib.org/>QuantLib</a> _(Finanzas Cuantitativas)_"
   ]
  },
  {
   "cell_type": "markdown",
   "metadata": {},
   "source": [
    "# Programación"
   ]
  },
  {
   "cell_type": "code",
   "execution_count": null,
   "metadata": {},
   "outputs": [],
   "source": [
    "#Esto es un comentario\n",
    "\"\"\"Esto también es un comentario, \n",
    "la diferencia con el # es que las \n",
    "comillas nos permiten comentar varios renglones\n",
    "\"\"\"\n",
    "\"\"\"Esto es un comentario\n",
    "\n",
    "esto es un comentario2\"\"\""
   ]
  },
  {
   "cell_type": "markdown",
   "metadata": {},
   "source": [
    "## Tipos de datos"
   ]
  },
  {
   "cell_type": "markdown",
   "metadata": {},
   "source": [
    "| Tipo de dato | Abreviación |\n",
    "| ---------- | ---------- |\n",
    "| Entero   | int   |\n",
    "| Flotante   | float   |\n",
    "| Booleano   | bool   |\n",
    "| String   | str   |"
   ]
  },
  {
   "cell_type": "markdown",
   "metadata": {},
   "source": [
    "<div class=\"alert alert-block alert-success\">\n",
    "<b>Recuerda:</b>  Para identificar el tipo de dato con el que estamos trabajando, ocupamos la función type()\n",
    "</div>"
   ]
  },
  {
   "cell_type": "code",
   "execution_count": 3,
   "metadata": {},
   "outputs": [
    {
     "data": {
      "text/plain": [
       "int"
      ]
     },
     "execution_count": 3,
     "metadata": {},
     "output_type": "execute_result"
    }
   ],
   "source": [
    "type(7)"
   ]
  },
  {
   "cell_type": "code",
   "execution_count": 4,
   "metadata": {},
   "outputs": [
    {
     "data": {
      "text/plain": [
       "16"
      ]
     },
     "execution_count": 4,
     "metadata": {},
     "output_type": "execute_result"
    }
   ],
   "source": [
    "7+9"
   ]
  },
  {
   "cell_type": "code",
   "execution_count": 5,
   "metadata": {},
   "outputs": [
    {
     "data": {
      "text/plain": [
       "1.0"
      ]
     },
     "execution_count": 5,
     "metadata": {},
     "output_type": "execute_result"
    }
   ],
   "source": [
    "1.0"
   ]
  },
  {
   "cell_type": "code",
   "execution_count": 6,
   "metadata": {},
   "outputs": [
    {
     "data": {
      "text/plain": [
       "float"
      ]
     },
     "execution_count": 6,
     "metadata": {},
     "output_type": "execute_result"
    }
   ],
   "source": [
    "type(1.0)"
   ]
  },
  {
   "cell_type": "code",
   "execution_count": 8,
   "metadata": {},
   "outputs": [
    {
     "data": {
      "text/plain": [
       "str"
      ]
     },
     "execution_count": 8,
     "metadata": {},
     "output_type": "execute_result"
    }
   ],
   "source": [
    "type('Hola Mundo')"
   ]
  },
  {
   "cell_type": "markdown",
   "metadata": {},
   "source": [
    "<div class = \"alert alert-block alert-danger\">\n",
    "<b>Importante:</b> Recuerda poner letra mayúscula al inicio de True y False ( true es distinto a True )\n",
    "</div>"
   ]
  },
  {
   "cell_type": "markdown",
   "metadata": {},
   "source": [
    "## Tipos de Estructuras"
   ]
  },
  {
   "cell_type": "markdown",
   "metadata": {},
   "source": [
    "Una estructura de datos, es un conjunto que puede almacenar una gran cantidad de objetos (entre ellos, tipos de datos)\n",
    "\n",
    "| Tipo de dato | Abreviación | Apertura |\n",
    "| ---------- | ---------- | ---------- |\n",
    "| Tuplas   | tuple   | () |\n",
    "| Diccionarios   | dict   | {} |\n",
    "| Listas   | list   | \\[\\] |\n"
   ]
  },
  {
   "cell_type": "markdown",
   "metadata": {},
   "source": [
    "<div class=\"alert alert-block alert-success\">\n",
    "<b>Nota:</b> A diferencia de otros lenguajes de programación, las estructuras de datos inician desde el índice 0 y terminan en el índice n-1, donde n es el número de elementos de la estructura de datos. \n",
    "</div>"
   ]
  },
  {
   "cell_type": "markdown",
   "metadata": {},
   "source": [
    "Ejemplo en __R__: \n",
    "\n",
    "| Indice | 1 | 2 | 3 | 4|\n",
    "| ---------- | ---------- | ---------- | ---------- | ---------- |\n",
    "| Palabra   | C | A | S | A |\n",
    "\n",
    "Ejemplo en __Python__: \n",
    "\n",
    "| Indice | 0 | 1 | 2 | 3|\n",
    "| ---------- | ---------- | ---------- | ---------- | ---------- |\n",
    "| Palabra   | C | A | S | A |"
   ]
  },
  {
   "cell_type": "markdown",
   "metadata": {},
   "source": [
    "### Tuplas\n",
    "\n",
    "Es una colección de objetos inmutables. Un objeto inmutable es un objeto cuyo estado no puede ser modificado una vez que es creado, esto quiere decir, que una vez que creamos la tupla NO  podemos agregar, cambiar o eliminar elementos."
   ]
  },
  {
   "cell_type": "code",
   "execution_count": 9,
   "metadata": {},
   "outputs": [],
   "source": [
    "#creamos una tupla\n",
    "miTupla = (1,2,3,4,5)"
   ]
  },
  {
   "cell_type": "code",
   "execution_count": 10,
   "metadata": {},
   "outputs": [
    {
     "data": {
      "text/plain": [
       "1"
      ]
     },
     "execution_count": 10,
     "metadata": {},
     "output_type": "execute_result"
    }
   ],
   "source": [
    "#selecionamos el primer elemento de una tupla\n",
    "miTupla[0]"
   ]
  },
  {
   "cell_type": "code",
   "execution_count": 15,
   "metadata": {},
   "outputs": [
    {
     "data": {
      "text/plain": [
       "4"
      ]
     },
     "execution_count": 15,
     "metadata": {},
     "output_type": "execute_result"
    }
   ],
   "source": [
    "#seleccionamos el último elemento de una tupla\n",
    "miTupla[-1]\n"
   ]
  },
  {
   "cell_type": "code",
   "execution_count": 16,
   "metadata": {},
   "outputs": [
    {
     "data": {
      "text/plain": [
       "(2, 3, 4)"
      ]
     },
     "execution_count": 16,
     "metadata": {},
     "output_type": "execute_result"
    }
   ],
   "source": [
    "#del segundo elemento al penúltimo elemento\n",
    "miTupla[1:-1]"
   ]
  },
  {
   "cell_type": "code",
   "execution_count": 19,
   "metadata": {},
   "outputs": [
    {
     "data": {
      "text/plain": [
       "(3, 4, 5)"
      ]
     },
     "execution_count": 19,
     "metadata": {},
     "output_type": "execute_result"
    }
   ],
   "source": [
    "#del primer al tercer elemento\n",
    "#recuerda toma los elementos con indice (0,1,2)\n",
    "miTupla[2:]"
   ]
  },
  {
   "cell_type": "code",
   "execution_count": 20,
   "metadata": {},
   "outputs": [
    {
     "data": {
      "text/plain": [
       "(1, 3.14159, 'Probabilidad 1', (999, '0'))"
      ]
     },
     "execution_count": 20,
     "metadata": {},
     "output_type": "execute_result"
    }
   ],
   "source": [
    "#Tupla de varios tipos de datos\n",
    "(1,3.14159,'Probabilidad 1', (999,'0'))"
   ]
  },
  {
   "cell_type": "markdown",
   "metadata": {},
   "source": [
    "### Diccionario\n",
    "\n",
    "Un diccionario es una colección de objetos con una llave"
   ]
  },
  {
   "cell_type": "code",
   "execution_count": 21,
   "metadata": {},
   "outputs": [],
   "source": [
    "#Definimos los calendarios\n",
    "miCalendario = {'Enero':1,'Febrero':2, 'Marzo':3, 'Abril':4}"
   ]
  },
  {
   "cell_type": "code",
   "execution_count": 22,
   "metadata": {},
   "outputs": [
    {
     "name": "stdout",
     "output_type": "stream",
     "text": [
      "{'Enero': 1, 'Febrero': 2, 'Marzo': 3, 'Abril': 4}\n"
     ]
    }
   ],
   "source": [
    "print(miCalendario)"
   ]
  },
  {
   "cell_type": "code",
   "execution_count": 23,
   "metadata": {},
   "outputs": [
    {
     "data": {
      "text/plain": [
       "1"
      ]
     },
     "execution_count": 23,
     "metadata": {},
     "output_type": "execute_result"
    }
   ],
   "source": [
    "#Seleccionamos el calendario cuya llave es ENERO\n",
    "miCalendario['Enero']"
   ]
  },
  {
   "cell_type": "code",
   "execution_count": 26,
   "metadata": {},
   "outputs": [],
   "source": [
    "# No podemos repetir llaves\n",
    "miCalendario = {'Enero':1,'Febrero':2, 'Marzo':3, 'Abril':4}"
   ]
  },
  {
   "cell_type": "code",
   "execution_count": 27,
   "metadata": {},
   "outputs": [
    {
     "data": {
      "text/plain": [
       "dict_keys(['Enero', 'Febrero', 'Marzo', 'Abril'])"
      ]
     },
     "execution_count": 27,
     "metadata": {},
     "output_type": "execute_result"
    }
   ],
   "source": [
    "# Obtener los nombres de las llaves\n",
    "miCalendario.keys()"
   ]
  },
  {
   "cell_type": "code",
   "execution_count": 29,
   "metadata": {},
   "outputs": [
    {
     "data": {
      "text/plain": [
       "{'Enero': 1, 'Febrero': 2, 'Marzo': 3, 'Abril': 5}"
      ]
     },
     "execution_count": 29,
     "metadata": {},
     "output_type": "execute_result"
    }
   ],
   "source": [
    "# Cambiar un valor dada la llave\n",
    "miCalendario['Abril'] = 5"
   ]
  },
  {
   "cell_type": "code",
   "execution_count": 32,
   "metadata": {},
   "outputs": [],
   "source": [
    "# Cambiar el nombre de una llave\n",
    "miCalendario['Abril']= miCalendario.pop('Marzo')"
   ]
  },
  {
   "cell_type": "code",
   "execution_count": 33,
   "metadata": {},
   "outputs": [
    {
     "data": {
      "text/plain": [
       "dict_values([1, 2, 3])"
      ]
     },
     "execution_count": 33,
     "metadata": {},
     "output_type": "execute_result"
    }
   ],
   "source": [
    "# Obtener los valores del diccionario\n",
    "miCalendario.values()"
   ]
  },
  {
   "cell_type": "code",
   "execution_count": 36,
   "metadata": {},
   "outputs": [
    {
     "data": {
      "text/plain": [
       "({'Enero': 1, 'Febrero': 2, 'Abril': 3}, 1, 2)"
      ]
     },
     "execution_count": 36,
     "metadata": {},
     "output_type": "execute_result"
    }
   ],
   "source": [
    "#tupla dentro de diccionario\n",
    "tupla2 = (miCalendario,1,2)\n",
    "tupla2"
   ]
  },
  {
   "cell_type": "code",
   "execution_count": 38,
   "metadata": {},
   "outputs": [
    {
     "data": {
      "text/plain": [
       "{'Enero': (1, 23), 'Febrero': 2, 'Abril': 3}"
      ]
     },
     "execution_count": 38,
     "metadata": {},
     "output_type": "execute_result"
    }
   ],
   "source": [
    "#Cambiamos valor a la llave de Enero\n",
    "miCalendario['Enero'] = (1,23)\n",
    "miCalendario"
   ]
  },
  {
   "cell_type": "code",
   "execution_count": 39,
   "metadata": {},
   "outputs": [
    {
     "name": "stdout",
     "output_type": "stream",
     "text": [
      "{'Enero': (1, 23), 'Febrero': 2, 'Abril': 3}\n"
     ]
    }
   ],
   "source": [
    "#imprimimos en pantalla\n",
    "print(miCalendario)"
   ]
  },
  {
   "cell_type": "code",
   "execution_count": 41,
   "metadata": {},
   "outputs": [
    {
     "data": {
      "text/plain": [
       "dict"
      ]
     },
     "execution_count": 41,
     "metadata": {},
     "output_type": "execute_result"
    }
   ],
   "source": [
    "#tupla\n",
    "type(tupla2)"
   ]
  },
  {
   "cell_type": "markdown",
   "metadata": {},
   "source": [
    "<div class=\"alert alert-block alert-success\">\n",
    "<b>Nota:</b> A diferencia de la tupla, para encontrar los elementos del diccionario se ocupa una llave de identificación\n",
    "</div>"
   ]
  },
  {
   "cell_type": "markdown",
   "metadata": {},
   "source": [
    "### Lista"
   ]
  },
  {
   "cell_type": "markdown",
   "metadata": {},
   "source": [
    "Es una colección de objetos mutables. Un objeto mutable es un objeto cuyo estado puede ser modificado una vez creado, esto quiere decir que una vez que creamos una lista  podemos agregar, cambiar o eliminar elementos."
   ]
  },
  {
   "cell_type": "code",
   "execution_count": 44,
   "metadata": {},
   "outputs": [
    {
     "data": {
      "text/plain": [
       "['Pizza']"
      ]
     },
     "execution_count": 44,
     "metadata": {},
     "output_type": "execute_result"
    }
   ],
   "source": [
    "# Declarar una lista vacía\n",
    "miLista = []\n",
    "# Agregar valores al final de la lista\n",
    "miLista.append('Pizza')"
   ]
  },
  {
   "cell_type": "code",
   "execution_count": 45,
   "metadata": {},
   "outputs": [],
   "source": [
    "# Declararla con valores\n",
    "miLista = [1, 'Probabilidad', 'Paulina', (1,-1)]"
   ]
  },
  {
   "cell_type": "code",
   "execution_count": 48,
   "metadata": {},
   "outputs": [
    {
     "data": {
      "text/plain": [
       "'Probabilidad'"
      ]
     },
     "execution_count": 48,
     "metadata": {},
     "output_type": "execute_result"
    }
   ],
   "source": [
    "# Acceder a los valores\n",
    "miLista[1]"
   ]
  },
  {
   "cell_type": "code",
   "execution_count": 49,
   "metadata": {},
   "outputs": [
    {
     "data": {
      "text/plain": [
       "(1, -1)"
      ]
     },
     "execution_count": 49,
     "metadata": {},
     "output_type": "execute_result"
    }
   ],
   "source": [
    "# Acceder al último elemento\n",
    "miLista[-1]"
   ]
  },
  {
   "cell_type": "code",
   "execution_count": 51,
   "metadata": {},
   "outputs": [
    {
     "data": {
      "text/plain": [
       "[1, 'Probabilidad', 'Paulina', 3.1416]"
      ]
     },
     "execution_count": 51,
     "metadata": {},
     "output_type": "execute_result"
    }
   ],
   "source": [
    "# Modificar valores\n",
    "miLista[-1] = 3.1416\n",
    "miLista"
   ]
  },
  {
   "cell_type": "markdown",
   "metadata": {},
   "source": [
    "Para agregar elemntos a una lista, ocupamos el método `append()`. \n",
    "Para eliminar según el element de la lista ocupamos el método `remove()` y para eliminar según posición ocupamos `pop()`."
   ]
  },
  {
   "cell_type": "code",
   "execution_count": 53,
   "metadata": {},
   "outputs": [
    {
     "data": {
      "text/plain": [
       "[1, 'Probabilidad', 'Paulina', 3.1416, 'Casa', 'Casa']"
      ]
     },
     "execution_count": 53,
     "metadata": {},
     "output_type": "execute_result"
    }
   ],
   "source": [
    "miLista.append('Casa')\n",
    "miLista"
   ]
  },
  {
   "cell_type": "code",
   "execution_count": 58,
   "metadata": {},
   "outputs": [
    {
     "data": {
      "text/plain": [
       "3.1416"
      ]
     },
     "execution_count": 58,
     "metadata": {},
     "output_type": "execute_result"
    }
   ],
   "source": [
    "# Elimiar elementos por posición, si no se especifica, elimina el último\n",
    "miLista.pop(2)"
   ]
  },
  {
   "cell_type": "code",
   "execution_count": 60,
   "metadata": {},
   "outputs": [],
   "source": [
    "# Eliminar por elemento\n",
    "miLista.remove('Casa')"
   ]
  },
  {
   "cell_type": "code",
   "execution_count": 67,
   "metadata": {},
   "outputs": [
    {
     "name": "stdout",
     "output_type": "stream",
     "text": [
      "[-10, -7, 0, 1, 2, 2.5, 9, 100]\n",
      "[100, 9, 2.5, 2, 1, 0, -7, -10]\n",
      "[1, 2, -7, 9, -10, 100, 0, 2.5]\n"
     ]
    }
   ],
   "source": [
    "# Ordenar una lista sin modificarla\n",
    "miLista = [1,2,-7,9,-10,100,0,2.5]\n",
    "print(sorted(miLista))\n",
    "print(sorted(miLista, reverse = True))\n",
    "print(miLista)"
   ]
  },
  {
   "cell_type": "code",
   "execution_count": 70,
   "metadata": {},
   "outputs": [
    {
     "name": "stdout",
     "output_type": "stream",
     "text": [
      "[-10, -7, 0, 1, 2, 2.5, 9, 100]\n",
      "[100, 9, 2.5, 2, 1, 0, -7, -10]\n"
     ]
    }
   ],
   "source": [
    "# Ordenar una lista modificandola\n",
    "miLista.sort()\n",
    "print(miLista)\n",
    "miLista.sort(reverse = True)\n",
    "print(miLista)"
   ]
  },
  {
   "cell_type": "markdown",
   "metadata": {},
   "source": [
    "## Operadores"
   ]
  },
  {
   "cell_type": "markdown",
   "metadata": {},
   "source": [
    "### Operadores aritméticos"
   ]
  },
  {
   "cell_type": "markdown",
   "metadata": {},
   "source": [
    "| Operador | Descripción |\n",
    "| ---------- | ---------- |\n",
    "| +   | Suma  |\n",
    "| - | Resta |\n",
    "| * | Multiplicación   |\n",
    "| / | División |\n",
    "| % | Módulo |\n",
    "| ** | Exponente |"
   ]
  },
  {
   "cell_type": "code",
   "execution_count": 1,
   "metadata": {},
   "outputs": [
    {
     "data": {
      "text/plain": [
       "2"
      ]
     },
     "execution_count": 1,
     "metadata": {},
     "output_type": "execute_result"
    }
   ],
   "source": [
    "1+1"
   ]
  },
  {
   "cell_type": "code",
   "execution_count": 2,
   "metadata": {},
   "outputs": [
    {
     "data": {
      "text/plain": [
       "80"
      ]
     },
     "execution_count": 2,
     "metadata": {},
     "output_type": "execute_result"
    }
   ],
   "source": [
    "100-20"
   ]
  },
  {
   "cell_type": "code",
   "execution_count": 3,
   "metadata": {},
   "outputs": [
    {
     "data": {
      "text/plain": [
       "5.0"
      ]
     },
     "execution_count": 3,
     "metadata": {},
     "output_type": "execute_result"
    }
   ],
   "source": [
    "10/2"
   ]
  },
  {
   "cell_type": "code",
   "execution_count": 4,
   "metadata": {},
   "outputs": [
    {
     "data": {
      "text/plain": [
       "180"
      ]
     },
     "execution_count": 4,
     "metadata": {},
     "output_type": "execute_result"
    }
   ],
   "source": [
    "20*9"
   ]
  },
  {
   "cell_type": "code",
   "execution_count": 5,
   "metadata": {},
   "outputs": [
    {
     "name": "stdout",
     "output_type": "stream",
     "text": [
      "0\n",
      "1\n"
     ]
    }
   ],
   "source": [
    "print(10%2)\n",
    "print(10%3)"
   ]
  },
  {
   "cell_type": "code",
   "execution_count": 6,
   "metadata": {},
   "outputs": [
    {
     "data": {
      "text/plain": [
       "8"
      ]
     },
     "execution_count": 6,
     "metadata": {},
     "output_type": "execute_result"
    }
   ],
   "source": [
    "2**3"
   ]
  },
  {
   "cell_type": "markdown",
   "metadata": {},
   "source": [
    "### Operadores comparativos"
   ]
  },
  {
   "cell_type": "markdown",
   "metadata": {},
   "source": [
    "| Operador | Descripción |\n",
    "| ---------- | ---------- |\n",
    "| ==   | Equivalente  |\n",
    "| != | Diferente |\n",
    "| > | Mayor que   |\n",
    "| < | Menor que |\n",
    "| >= | Mayor o igual |\n",
    "| <= | Menor o igual |"
   ]
  },
  {
   "cell_type": "code",
   "execution_count": 8,
   "metadata": {},
   "outputs": [
    {
     "name": "stdout",
     "output_type": "stream",
     "text": [
      "True\n",
      "False\n"
     ]
    }
   ],
   "source": [
    "print(2==2)\n",
    "print(2==1)"
   ]
  },
  {
   "cell_type": "code",
   "execution_count": 9,
   "metadata": {},
   "outputs": [
    {
     "name": "stdout",
     "output_type": "stream",
     "text": [
      "True\n",
      "False\n"
     ]
    }
   ],
   "source": [
    "print(1!=0)\n",
    "print(1!=1)"
   ]
  },
  {
   "cell_type": "code",
   "execution_count": 10,
   "metadata": {},
   "outputs": [
    {
     "name": "stdout",
     "output_type": "stream",
     "text": [
      "True\n",
      "False\n",
      "False\n"
     ]
    }
   ],
   "source": [
    "print(1>0)\n",
    "print(1>1)\n",
    "print(1>2)"
   ]
  },
  {
   "cell_type": "code",
   "execution_count": 11,
   "metadata": {},
   "outputs": [
    {
     "name": "stdout",
     "output_type": "stream",
     "text": [
      "False\n",
      "False\n",
      "True\n"
     ]
    }
   ],
   "source": [
    "print(1<0)\n",
    "print(1<1)\n",
    "print(1<2)"
   ]
  },
  {
   "cell_type": "code",
   "execution_count": 12,
   "metadata": {},
   "outputs": [
    {
     "name": "stdout",
     "output_type": "stream",
     "text": [
      "False\n",
      "True\n",
      "True\n"
     ]
    }
   ],
   "source": [
    "print(1<=0)\n",
    "print(1<=1)\n",
    "print(1<=2)"
   ]
  },
  {
   "cell_type": "code",
   "execution_count": 13,
   "metadata": {},
   "outputs": [
    {
     "name": "stdout",
     "output_type": "stream",
     "text": [
      "True\n",
      "True\n",
      "False\n"
     ]
    }
   ],
   "source": [
    "print(1>=0)\n",
    "print(1>=1)\n",
    "print(1>=2)"
   ]
  },
  {
   "cell_type": "markdown",
   "metadata": {},
   "source": [
    "### Operadores de asignación"
   ]
  },
  {
   "cell_type": "markdown",
   "metadata": {},
   "source": [
    "| Operador | Descripción |\n",
    "| ---------- | ---------- |\n",
    "| =   | Asigna valores, $a,b = 0, 1$ es equivalente a $a = 0$ y $b=1$ |\n",
    "| $+=$ | $c+=a$ es equivalente a $c = c + a$ |\n",
    "| $-=$ | $c-=a$ es equivalente a $c = c - a$ |\n",
    "| $*=$ | $c*=a$ es equivalente a $c = c * a$ |\n",
    "| $/=$ | $c/=a$ es equivalente a $c = c / a$ |\n",
    "| $\\%=$ | $c\\%=a$ es equivalente a $c = c \\% a$ |\n",
    "| $**=$ | $c**=a$ es equivalente a $c = c ** a$ |"
   ]
  },
  {
   "cell_type": "markdown",
   "metadata": {},
   "source": [
    "### Operadores lógicos"
   ]
  },
  {
   "cell_type": "markdown",
   "metadata": {},
   "source": [
    "| Operador | Descripción |\n",
    "| ---------- | ---------- |\n",
    "| and  | Verdadero solo cuando ambos operadores lo son |\n",
    "| or | Verdadero cuando cualquiera de los operandos lo es |\n",
    "| not | Reviere el estado lógico |"
   ]
  },
  {
   "cell_type": "markdown",
   "metadata": {},
   "source": [
    "## Ciclos"
   ]
  },
  {
   "cell_type": "markdown",
   "metadata": {},
   "source": [
    "### `while`"
   ]
  },
  {
   "cell_type": "code",
   "execution_count": 14,
   "metadata": {},
   "outputs": [
    {
     "name": "stdout",
     "output_type": "stream",
     "text": [
      "3\n"
     ]
    }
   ],
   "source": [
    "x = 0\n",
    "while x<3:\n",
    "    x+=1 # x = x+1\n",
    "\n",
    "print(x)"
   ]
  },
  {
   "cell_type": "markdown",
   "metadata": {},
   "source": [
    "Cabe destacar que el ciclo while se ejecuta mientras la condición (b < 10) sea verdadera. El cuerpo del ciclo está __sangrado__, es decir, la sangría es la forma que usa Python para agrupar declaraciones (recuerda las propiedades de Python), esto hace que el código sea más legible. En la plataforma se debe escribir un tabulador para cada línea que pertenezca a la misma declaración."
   ]
  },
  {
   "cell_type": "markdown",
   "metadata": {},
   "source": [
    "### `for`"
   ]
  },
  {
   "cell_type": "code",
   "execution_count": 15,
   "metadata": {},
   "outputs": [
    {
     "name": "stdout",
     "output_type": "stream",
     "text": [
      "6\n"
     ]
    }
   ],
   "source": [
    "x = 0\n",
    "for i in range(4): # [0,1,2,3]\n",
    "    x += i\n",
    "    \n",
    "print(x) # Estamos sumando 0 + 1 + 2 + 3 = 6"
   ]
  },
  {
   "cell_type": "markdown",
   "metadata": {},
   "source": [
    "El ciclo `for`, a diferencia de otros lenguajes, puede iterar sobre los elementos de cualquier secuencia (lista o cadena de texto), en el orden en el que van apareciendo."
   ]
  },
  {
   "cell_type": "code",
   "execution_count": 16,
   "metadata": {},
   "outputs": [
    {
     "name": "stdout",
     "output_type": "stream",
     "text": [
      "a\n",
      "b\n",
      "c\n",
      "d\n",
      "e\n",
      "a\n",
      "['a', 'b', 'd', 'e', 'a']\n"
     ]
    }
   ],
   "source": [
    "l=[\"a\",\"b\",\"c\",\"d\",\"e\",\"a\"]\n",
    "for i in l:\n",
    "    print(i)\n",
    "l.pop(2)\n",
    "print(l)"
   ]
  },
  {
   "cell_type": "markdown",
   "metadata": {},
   "source": [
    "## Condicionales"
   ]
  },
  {
   "cell_type": "markdown",
   "metadata": {},
   "source": [
    "### `if`"
   ]
  },
  {
   "cell_type": "code",
   "execution_count": 20,
   "metadata": {},
   "outputs": [
    {
     "name": "stdout",
     "output_type": "stream",
     "text": [
      "Tu variable es positiva\n"
     ]
    }
   ],
   "source": [
    "x = 1\n",
    "if x>0:\n",
    "    print('Tu variable es positiva')"
   ]
  },
  {
   "cell_type": "markdown",
   "metadata": {},
   "source": [
    "### `elif`"
   ]
  },
  {
   "cell_type": "markdown",
   "metadata": {},
   "source": [
    "Las sentencias `elif` son la abreviación de `else if` y es útil para evitar usar tabuladores en exceso. La secuencia \n",
    "if... elif ... elif ... \n",
    "puede ser un sustituto de la sentencia `switch` o `case` que existe en otros lenguajes."
   ]
  },
  {
   "cell_type": "code",
   "execution_count": 23,
   "metadata": {},
   "outputs": [
    {
     "name": "stdout",
     "output_type": "stream",
     "text": [
      "Tu variable es igual a cero\n"
     ]
    }
   ],
   "source": [
    "x = -1\n",
    "if x>0:\n",
    "    print('Tu variable es positiva')\n",
    "elif x == 0:\n",
    "    print('Tu variable es igual a cero')"
   ]
  },
  {
   "cell_type": "markdown",
   "metadata": {},
   "source": [
    "__Nota:__ Puede no haber sentencias `elif`, y la sentencia `else` es __opcional__. "
   ]
  },
  {
   "cell_type": "code",
   "execution_count": 26,
   "metadata": {},
   "outputs": [
    {
     "name": "stdout",
     "output_type": "stream",
     "text": [
      "Tu variable es positiva\n"
     ]
    }
   ],
   "source": [
    "x = -1\n",
    "if x > 0:\n",
    "    print('Tu variable es positiva')\n",
    "elif x == 0:\n",
    "    print('Tu variable es igual a cero')\n",
    "else:\n",
    "    print('Tu variable es negativa')"
   ]
  },
  {
   "cell_type": "markdown",
   "metadata": {},
   "source": [
    "## Funciones"
   ]
  },
  {
   "cell_type": "markdown",
   "metadata": {},
   "source": [
    "La sentencia para definir una función `def` debe de estar seguida del nombre de la función, y entre paréntesis la lista de parámetros.\n",
    "\n",
    "``` python \n",
    "def nameFunction( parameter1, parameter2, ... , parameter n) #n parámetros\n",
    "    instruction1\n",
    "    instruction2\n",
    "    ...\n",
    "    return variable #Puede no regresar una variable ```"
   ]
  },
  {
   "cell_type": "code",
   "execution_count": 27,
   "metadata": {},
   "outputs": [],
   "source": [
    "def hipotenusa(lado1, lado2):\n",
    "    \"\"\"\n",
    "    Función que cálcula la hipotenusa de un triángulo rectángulo, dados los lados\n",
    "\n",
    "    Parametros\n",
    "    ----------\n",
    "    lado1 : float\n",
    "        Cateto opuesto del triángulo rectangulo\n",
    "    lado2 : float\n",
    "        Cateto adyacente del triángulo rectangulo\n",
    "            \n",
    "    Return\n",
    "    ----------\n",
    "    hip : float\n",
    "        Hipotenusa del triangulo rectángulo\n",
    "    \"\"\"\n",
    "    hip = (lado1**(2) + lado2**(2))**(1/2)\n",
    "    return hip"
   ]
  },
  {
   "cell_type": "code",
   "execution_count": 28,
   "metadata": {},
   "outputs": [
    {
     "data": {
      "text/plain": [
       "5.0"
      ]
     },
     "execution_count": 28,
     "metadata": {},
     "output_type": "execute_result"
    }
   ],
   "source": [
    "hipotenusa(3, 4)"
   ]
  },
  {
   "cell_type": "markdown",
   "metadata": {},
   "source": [
    "### Funciones con multiples returns"
   ]
  },
  {
   "cell_type": "code",
   "execution_count": 29,
   "metadata": {},
   "outputs": [],
   "source": [
    "def rectangulo(base, altura):\n",
    "    area = base*altura\n",
    "    perimetro =  2*(base) + 2*(altura)\n",
    "    return area, perimetro"
   ]
  },
  {
   "cell_type": "code",
   "execution_count": 30,
   "metadata": {},
   "outputs": [
    {
     "data": {
      "text/plain": [
       "(10, 14)"
      ]
     },
     "execution_count": 30,
     "metadata": {},
     "output_type": "execute_result"
    }
   ],
   "source": [
    "rectangulo(2,5)"
   ]
  },
  {
   "cell_type": "code",
   "execution_count": 31,
   "metadata": {},
   "outputs": [
    {
     "name": "stdout",
     "output_type": "stream",
     "text": [
      "Area: 10\n",
      "Perímetro: 14\n"
     ]
    }
   ],
   "source": [
    "area, perimetro = rectangulo(2,5)\n",
    "print('Area: {0}\\nPerímetro: {1}'.format (area, perimetro))"
   ]
  },
  {
   "cell_type": "markdown",
   "metadata": {},
   "source": [
    "Si deseas explorar más acerca de las funciones de Python consulta el siguiente <a href= https://www.w3schools.com/python/python_functions.asp>link</a>"
   ]
  },
  {
   "cell_type": "markdown",
   "metadata": {},
   "source": [
    "### Funciones _Lambda_\n",
    "\n",
    "Una función _lambda_ es una función anónima, es decir, no posee un nombre definido como las ya mencionadas, son de gran utilidad al contenerlas dentro de otras funciones y así simplificar el código, sobretodo cuando estas son muy resumidas.\n",
    "\n",
    "Y la sintaxis es la siguiente:\n",
    "`lambda argumentos: expresion`"
   ]
  },
  {
   "cell_type": "code",
   "execution_count": 32,
   "metadata": {},
   "outputs": [
    {
     "data": {
      "text/plain": [
       "200"
      ]
     },
     "execution_count": 32,
     "metadata": {},
     "output_type": "execute_result"
    }
   ],
   "source": [
    "f = lambda x: x**2 + 100\n",
    "f(10)"
   ]
  },
  {
   "cell_type": "code",
   "execution_count": 33,
   "metadata": {},
   "outputs": [
    {
     "data": {
      "text/plain": [
       "104"
      ]
     },
     "execution_count": 33,
     "metadata": {},
     "output_type": "execute_result"
    }
   ],
   "source": [
    "z = f\n",
    "z(2)"
   ]
  },
  {
   "cell_type": "code",
   "execution_count": 34,
   "metadata": {},
   "outputs": [
    {
     "name": "stdout",
     "output_type": "stream",
     "text": [
      "a: -1\n",
      "b: 1\n"
     ]
    }
   ],
   "source": [
    "# Dando multiples variables y regresando multiples variables\n",
    "switch = lambda a,b : (b,a)\n",
    "a = 1\n",
    "b = -1\n",
    "a,b= switch(a,b)\n",
    "print('a: '+ str(a))\n",
    "print('b: '+ str(b))"
   ]
  },
  {
   "cell_type": "code",
   "execution_count": 41,
   "metadata": {},
   "outputs": [
    {
     "name": "stdout",
     "output_type": "stream",
     "text": [
      "a: 1\n",
      "b: 0\n"
     ]
    }
   ],
   "source": [
    "a = 0\n",
    "b = 1\n",
    "a,b = b,a\n",
    "print('a: ' + str(a))\n",
    "print('b: ' + str(b))"
   ]
  },
  {
   "cell_type": "markdown",
   "metadata": {},
   "source": [
    "Si deseas explorar más acerca de las funciones _lamda_ de Python consulta el siguiente <a href= https://www.w3schools.com/python/python_lambda.asp>link</a>"
   ]
  },
  {
   "cell_type": "markdown",
   "metadata": {},
   "source": [
    "## Otras funciones"
   ]
  },
  {
   "cell_type": "markdown",
   "metadata": {},
   "source": [
    "La función `range` genera una progresión aritmética:\n",
    "\n",
    "``` python \n",
    "range(beginning, end, step) #Puede no regresar una variable ```\n",
    "\n",
    "en donde: \n",
    "    \n",
    "* `beggining` indica el punto de inicio de la progresión\n",
    "* `end` el punto final de la progresión (no lo toca)\n",
    "* `step` el paso de la progresión."
   ]
  },
  {
   "cell_type": "markdown",
   "metadata": {},
   "source": [
    "__Rango de enteros en el intervalo [2, 10) con paso uno__"
   ]
  },
  {
   "cell_type": "code",
   "execution_count": 35,
   "metadata": {},
   "outputs": [
    {
     "data": {
      "text/plain": [
       "[2, 3, 4, 5, 6, 7, 8, 9]"
      ]
     },
     "execution_count": 35,
     "metadata": {},
     "output_type": "execute_result"
    }
   ],
   "source": [
    "list(range(2,10))"
   ]
  },
  {
   "cell_type": "markdown",
   "metadata": {},
   "source": [
    "__Rango de enteros en el intervalo [3, 30) con paso tres__"
   ]
  },
  {
   "cell_type": "code",
   "execution_count": 36,
   "metadata": {},
   "outputs": [
    {
     "data": {
      "text/plain": [
       "[3, 6, 9, 12, 15, 18, 21, 24, 27]"
      ]
     },
     "execution_count": 36,
     "metadata": {},
     "output_type": "execute_result"
    }
   ],
   "source": [
    "list(range(3,30,3))"
   ]
  },
  {
   "cell_type": "markdown",
   "metadata": {},
   "source": [
    "__Rango de 10 a -6 con dos pasos__"
   ]
  },
  {
   "cell_type": "code",
   "execution_count": 37,
   "metadata": {},
   "outputs": [
    {
     "data": {
      "text/plain": [
       "[10, 8, 6, 4, 2, 0, -2, -4]"
      ]
     },
     "execution_count": 37,
     "metadata": {},
     "output_type": "execute_result"
    }
   ],
   "source": [
    "list(range(10,-6,-2))"
   ]
  },
  {
   "cell_type": "markdown",
   "metadata": {},
   "source": [
    "## Clases\n",
    "\n",
    "Como hemos mencionado, Python es una lenguaje que trabaja bajo el paradigma de programación orientada a objetos, los cuales están definidos apartir de sus _propiedades_ e _instancias (funciones)_. Estos tienen instancias particulares y reservadas como `__init__` y `__str__`.\n",
    "\n",
    "Sintaxis:\n",
    "`class my_class:\n",
    "    procesos`\n",
    "\n",
    "### __ init __ (Constructor)\n",
    "\n",
    "La instancia o método `__init__` nos permite definir definir las características de un objeto, es decir, construir al objeto al momento de declararlo. Esto lo realizamos por medio de la siguiente sintaxis:\n",
    "\n",
    "`class my_class:\n",
    "    def __init__(self, args*):\n",
    "        self.propiedad_1 = algo\n",
    "        self.propiedad_2 = algo\n",
    "        ...\n",
    "        self.propiedad_n = algo`"
   ]
  },
  {
   "cell_type": "code",
   "execution_count": 2,
   "metadata": {},
   "outputs": [],
   "source": [
    "# Crear la clase \"alumno\"\n",
    "class alumno:\n",
    "    def __init__(self):\n",
    "        self.nombre = ''\n",
    "        self.apellido = ''\n",
    "        self.edad = 0.0\n",
    "        self.carrera = ''\n",
    "        self.materias_fav = []"
   ]
  },
  {
   "cell_type": "code",
   "execution_count": 3,
   "metadata": {},
   "outputs": [
    {
     "data": {
      "text/plain": [
       "[]"
      ]
     },
     "execution_count": 3,
     "metadata": {},
     "output_type": "execute_result"
    }
   ],
   "source": [
    "# Declarar la clase\n",
    "juan_perez = alumno()\n",
    "# Acceder a propiedades\n",
    "juan_perez.materias_fav"
   ]
  },
  {
   "cell_type": "code",
   "execution_count": 4,
   "metadata": {},
   "outputs": [
    {
     "name": "stdout",
     "output_type": "stream",
     "text": [
      "Juan\n",
      "20\n",
      "['Probabilidad', 'Estructuras de Datos']\n"
     ]
    }
   ],
   "source": [
    "# Modificar propiedades\n",
    "juan_perez.nombre = 'Juan'\n",
    "juan_perez.apellido = 'Perez'\n",
    "juan_perez.edad = 20\n",
    "juan_perez.carrera = 'Ciencias de la Computación'\n",
    "juan_perez.materias_fav = ['Probabilidad', 'Estructuras de Datos']\n",
    "print(juan_perez.nombre)\n",
    "print(juan_perez.edad)\n",
    "print(juan_perez.materias_fav)"
   ]
  },
  {
   "cell_type": "code",
   "execution_count": 5,
   "metadata": {},
   "outputs": [],
   "source": [
    "# Explorando el constructor\n",
    "class alumno:\n",
    "    def __init__(self, nombre, apellido, edad, carrera, materias_fav):\n",
    "        self.nombre = nombre\n",
    "        self.apellido = apellido\n",
    "        self.edad = edad\n",
    "        self.carrera = carrera\n",
    "        self.materias_fav = materias_fav"
   ]
  },
  {
   "cell_type": "code",
   "execution_count": 6,
   "metadata": {},
   "outputs": [
    {
     "name": "stdout",
     "output_type": "stream",
     "text": [
      "Juan\n",
      "20\n",
      "['Proba', 'Est Datos']\n"
     ]
    }
   ],
   "source": [
    "# Mostrarlo de nuevo\n",
    "juan_perez = alumno('Juan', 'Perez', 20, 'Ciencias de la Computación', ['Proba','Est Datos'])\n",
    "print(juan_perez.nombre)\n",
    "print(juan_perez.edad)\n",
    "print(juan_perez.materias_fav)"
   ]
  },
  {
   "cell_type": "markdown",
   "metadata": {},
   "source": [
    "### __ str __\n",
    "Esta instancia nos permite _\"imprimir\"_ al objeto y mostrar algunas de sus propiedades"
   ]
  },
  {
   "cell_type": "code",
   "execution_count": 7,
   "metadata": {},
   "outputs": [],
   "source": [
    "# Crear clase con __ str __\n",
    "class alumno:\n",
    "    def __init__(self, nombre, apellido, edad, carrera, materias_fav):\n",
    "        self.nombre = nombre\n",
    "        self.apellido = apellido\n",
    "        self.edad = edad\n",
    "        self.carrera = carrera\n",
    "        self.materias_fav = materias_fav\n",
    "    def __str__(self):\n",
    "        resumen = 'Nombre: {0}\\nApellido: {1}\\nEdad: {2}\\nCarrera: {3}'.format (self.nombre,\\\n",
    "                                                                               self.apellido,\\\n",
    "                                                                               self.edad,\\\n",
    "                                                                               self.carrera)\n",
    "        return resumen"
   ]
  },
  {
   "cell_type": "code",
   "execution_count": 8,
   "metadata": {},
   "outputs": [
    {
     "name": "stdout",
     "output_type": "stream",
     "text": [
      "Nombre: Juan\n",
      "Apellido: Perez\n",
      "Edad: 20\n",
      "Carrera: Ciencias de la Computación\n"
     ]
    }
   ],
   "source": [
    "# Mostrar __ str __\n",
    "juan_perez = alumno('Juan', 'Perez', 20, 'Ciencias de la Computación', ['Proba','Est Datos'])\n",
    "print(juan_perez)"
   ]
  },
  {
   "cell_type": "markdown",
   "metadata": {},
   "source": [
    "### Funciones dentro de clases"
   ]
  },
  {
   "cell_type": "code",
   "execution_count": 9,
   "metadata": {},
   "outputs": [],
   "source": [
    "# Crear clase con una función (o varias)\n",
    "class alumno:\n",
    "    def __init__(self, nombre, apellido, edad, carrera, materias_fav):\n",
    "        self.nombre = nombre\n",
    "        self.apellido = apellido\n",
    "        self.edad = edad\n",
    "        self.carrera = carrera\n",
    "        self.materias_fav = materias_fav\n",
    "        \n",
    "    def compute_id(self):\n",
    "        id_alumno = self.nombre+self.apellido+str(self.edad)+self.carrera\n",
    "        return id_alumno\n",
    "    \n",
    "    def __str__(self):\n",
    "        resumen = 'Nombre: {0}\\nApellido: {1}\\nEdad: {2}\\nCarrera: {3}'.format (self.nombre,\\\n",
    "                                                                               self.apellido,\\\n",
    "                                                                               self.edad,\\\n",
    "                                                                               self.carrera)\n",
    "        return resumen"
   ]
  },
  {
   "cell_type": "code",
   "execution_count": 10,
   "metadata": {},
   "outputs": [
    {
     "data": {
      "text/plain": [
       "'JuanPerez20Ciencias de la Computación'"
      ]
     },
     "execution_count": 10,
     "metadata": {},
     "output_type": "execute_result"
    }
   ],
   "source": [
    "# Declarar la clase\n",
    "juan_perez = alumno('Juan', 'Perez', 20, 'Ciencias de la Computación', ['Proba','Est Datos'])\n",
    "juan_perez.compute_id()"
   ]
  },
  {
   "cell_type": "markdown",
   "metadata": {},
   "source": [
    "Para más información sobre las clases de Python consultar los siguientes links:\n",
    "- <a href= https://www.w3schools.com/python/python_classes.asp>Resumen</a>\n",
    "- <a href= \"https://www.youtube.com/watch?v=apACNr7DC_s&ab_channel=Socratica\">Video</a>"
   ]
  },
  {
   "cell_type": "markdown",
   "metadata": {},
   "source": [
    "## Módulos"
   ]
  },
  {
   "cell_type": "markdown",
   "metadata": {},
   "source": [
    "Un módulo es lo que conocemos como librería o paquetería en otros lenguajes. \n",
    "Para instalar cualquier módulo debes:\n",
    "\n",
    "1) En el buscador de windows, teclear __Anaconda Prompt__. Se va a desplegar una ventana parecida al cmd de windows.\n",
    "\n",
    "2) Una vez abierta, escribir __pip install \"nombre del modulo\"__. \n",
    "\n",
    "3) Esperar a que complete la instalación.\n",
    "\n",
    "Para declarar un módulo en jupyter se tiene la siguiente sintáxis:\n",
    "\n",
    "``` python \n",
    "import module as myname #Puede no regresar una variable ```\n",
    "\n",
    "donde: \n",
    "* `module` es el nombre del modulo \n",
    "* `myname` es el nombre que asignas al módulo"
   ]
  },
  {
   "cell_type": "markdown",
   "metadata": {},
   "source": [
    "## Pandas"
   ]
  },
  {
   "cell_type": "markdown",
   "metadata": {},
   "source": [
    "Pandas es una librería que nos permite manipular y anilizar datos por medio de una estructura llamada _Data Frame_ que es un análogo a una tabla. Estos objetos están caracterizados por columnas y renglones, las cuales son mutables y reindexables, es decir, podemos modificar sus valores, sus tamaños, así como los nombres de los mismos.\n",
    "\n",
    "Sintaxis:\n",
    "\n",
    "`import pandas as pd`\n",
    "\n",
    "`my_df = pd.DataFrame()`"
   ]
  },
  {
   "cell_type": "code",
   "execution_count": 13,
   "metadata": {},
   "outputs": [
    {
     "data": {
      "text/html": [
       "<div>\n",
       "<style scoped>\n",
       "    .dataframe tbody tr th:only-of-type {\n",
       "        vertical-align: middle;\n",
       "    }\n",
       "\n",
       "    .dataframe tbody tr th {\n",
       "        vertical-align: top;\n",
       "    }\n",
       "\n",
       "    .dataframe thead th {\n",
       "        text-align: right;\n",
       "    }\n",
       "</style>\n",
       "<table border=\"1\" class=\"dataframe\">\n",
       "  <thead>\n",
       "    <tr style=\"text-align: right;\">\n",
       "      <th></th>\n",
       "      <th>Alumnos</th>\n",
       "    </tr>\n",
       "  </thead>\n",
       "  <tbody>\n",
       "    <tr>\n",
       "      <th>0</th>\n",
       "      <td>Juan</td>\n",
       "    </tr>\n",
       "    <tr>\n",
       "      <th>1</th>\n",
       "      <td>Carmen</td>\n",
       "    </tr>\n",
       "    <tr>\n",
       "      <th>2</th>\n",
       "      <td>Ana</td>\n",
       "    </tr>\n",
       "  </tbody>\n",
       "</table>\n",
       "</div>"
      ],
      "text/plain": [
       "  Alumnos\n",
       "0    Juan\n",
       "1  Carmen\n",
       "2     Ana"
      ]
     },
     "execution_count": 13,
     "metadata": {},
     "output_type": "execute_result"
    }
   ],
   "source": [
    "# Importar pandas\n",
    "import pandas as pd\n",
    "# Crear el Data Frame\n",
    "df = pd.DataFrame()\n",
    "# Agregar una columna\n",
    "alumnos = ['Juan', 'Carmen', 'Ana']\n",
    "df['Alumnos'] = alumnos\n",
    "df"
   ]
  },
  {
   "cell_type": "code",
   "execution_count": 14,
   "metadata": {},
   "outputs": [
    {
     "data": {
      "text/html": [
       "<div>\n",
       "<style scoped>\n",
       "    .dataframe tbody tr th:only-of-type {\n",
       "        vertical-align: middle;\n",
       "    }\n",
       "\n",
       "    .dataframe tbody tr th {\n",
       "        vertical-align: top;\n",
       "    }\n",
       "\n",
       "    .dataframe thead th {\n",
       "        text-align: right;\n",
       "    }\n",
       "</style>\n",
       "<table border=\"1\" class=\"dataframe\">\n",
       "  <thead>\n",
       "    <tr style=\"text-align: right;\">\n",
       "      <th></th>\n",
       "      <th>Alumnos</th>\n",
       "      <th>Carreras</th>\n",
       "    </tr>\n",
       "  </thead>\n",
       "  <tbody>\n",
       "    <tr>\n",
       "      <th>0</th>\n",
       "      <td>Juan</td>\n",
       "      <td>Actuaría</td>\n",
       "    </tr>\n",
       "    <tr>\n",
       "      <th>1</th>\n",
       "      <td>Carmen</td>\n",
       "      <td>Mate</td>\n",
       "    </tr>\n",
       "    <tr>\n",
       "      <th>2</th>\n",
       "      <td>Ana</td>\n",
       "      <td>CC</td>\n",
       "    </tr>\n",
       "  </tbody>\n",
       "</table>\n",
       "</div>"
      ],
      "text/plain": [
       "  Alumnos  Carreras\n",
       "0    Juan  Actuaría\n",
       "1  Carmen      Mate\n",
       "2     Ana        CC"
      ]
     },
     "execution_count": 14,
     "metadata": {},
     "output_type": "execute_result"
    }
   ],
   "source": [
    "# Agregar más columnas \n",
    "df['Carreras'] = ['Actuaría', 'Mate', 'CC']\n",
    "df"
   ]
  },
  {
   "cell_type": "code",
   "execution_count": 15,
   "metadata": {},
   "outputs": [
    {
     "data": {
      "text/plain": [
       "'Juan'"
      ]
     },
     "execution_count": 15,
     "metadata": {},
     "output_type": "execute_result"
    }
   ],
   "source": [
    "# Acceder a un elemento\n",
    "df['Alumnos'][0]"
   ]
  },
  {
   "cell_type": "code",
   "execution_count": 16,
   "metadata": {},
   "outputs": [
    {
     "data": {
      "text/plain": [
       "0    Actuaría\n",
       "1        Mate\n",
       "2          CC\n",
       "Name: Carreras, dtype: object"
      ]
     },
     "execution_count": 16,
     "metadata": {},
     "output_type": "execute_result"
    }
   ],
   "source": [
    "# Acceder a columnas\n",
    "df['Carreras']"
   ]
  },
  {
   "cell_type": "code",
   "execution_count": 18,
   "metadata": {},
   "outputs": [
    {
     "data": {
      "text/plain": [
       "'Carmen'"
      ]
     },
     "execution_count": 18,
     "metadata": {},
     "output_type": "execute_result"
    }
   ],
   "source": [
    "# Acceder por fila\n",
    "df.loc[1, 'Alumnos']"
   ]
  },
  {
   "cell_type": "code",
   "execution_count": 19,
   "metadata": {},
   "outputs": [
    {
     "data": {
      "text/plain": [
       "'Ana'"
      ]
     },
     "execution_count": 19,
     "metadata": {},
     "output_type": "execute_result"
    }
   ],
   "source": [
    "# Acceder por 'coordenada', i.e. (fila, columna)\n",
    "df.iloc[2,0]"
   ]
  },
  {
   "cell_type": "code",
   "execution_count": 21,
   "metadata": {},
   "outputs": [
    {
     "data": {
      "text/html": [
       "<div>\n",
       "<style scoped>\n",
       "    .dataframe tbody tr th:only-of-type {\n",
       "        vertical-align: middle;\n",
       "    }\n",
       "\n",
       "    .dataframe tbody tr th {\n",
       "        vertical-align: top;\n",
       "    }\n",
       "\n",
       "    .dataframe thead th {\n",
       "        text-align: right;\n",
       "    }\n",
       "</style>\n",
       "<table border=\"1\" class=\"dataframe\">\n",
       "  <thead>\n",
       "    <tr style=\"text-align: right;\">\n",
       "      <th></th>\n",
       "      <th>Alumnos</th>\n",
       "      <th>Carreras</th>\n",
       "    </tr>\n",
       "  </thead>\n",
       "  <tbody>\n",
       "    <tr>\n",
       "      <th>0</th>\n",
       "      <td>Juan</td>\n",
       "      <td>Actuaría</td>\n",
       "    </tr>\n",
       "    <tr>\n",
       "      <th>1</th>\n",
       "      <td>Carmen</td>\n",
       "      <td>Mate</td>\n",
       "    </tr>\n",
       "  </tbody>\n",
       "</table>\n",
       "</div>"
      ],
      "text/plain": [
       "  Alumnos  Carreras\n",
       "0    Juan  Actuaría\n",
       "1  Carmen      Mate"
      ]
     },
     "execution_count": 21,
     "metadata": {},
     "output_type": "execute_result"
    }
   ],
   "source": [
    "# Obtener más los primeros elementos\n",
    "df.head(2)"
   ]
  },
  {
   "cell_type": "code",
   "execution_count": 22,
   "metadata": {},
   "outputs": [
    {
     "name": "stdout",
     "output_type": "stream",
     "text": [
      "<class 'pandas.core.frame.DataFrame'>\n",
      "RangeIndex: 3 entries, 0 to 2\n",
      "Data columns (total 2 columns):\n",
      " #   Column    Non-Null Count  Dtype \n",
      "---  ------    --------------  ----- \n",
      " 0   Alumnos   3 non-null      object\n",
      " 1   Carreras  3 non-null      object\n",
      "dtypes: object(2)\n",
      "memory usage: 176.0+ bytes\n"
     ]
    }
   ],
   "source": [
    "# Obtener los tipos de datos\n",
    "df.info()"
   ]
  },
  {
   "cell_type": "code",
   "execution_count": 23,
   "metadata": {},
   "outputs": [
    {
     "data": {
      "text/plain": [
       "(3, 2)"
      ]
     },
     "execution_count": 23,
     "metadata": {},
     "output_type": "execute_result"
    }
   ],
   "source": [
    "# Número de filas y columnas\n",
    "df.shape"
   ]
  },
  {
   "cell_type": "code",
   "execution_count": 24,
   "metadata": {},
   "outputs": [
    {
     "data": {
      "text/html": [
       "<div>\n",
       "<style scoped>\n",
       "    .dataframe tbody tr th:only-of-type {\n",
       "        vertical-align: middle;\n",
       "    }\n",
       "\n",
       "    .dataframe tbody tr th {\n",
       "        vertical-align: top;\n",
       "    }\n",
       "\n",
       "    .dataframe thead th {\n",
       "        text-align: right;\n",
       "    }\n",
       "</style>\n",
       "<table border=\"1\" class=\"dataframe\">\n",
       "  <thead>\n",
       "    <tr style=\"text-align: right;\">\n",
       "      <th></th>\n",
       "      <th>Alumnos</th>\n",
       "      <th>Carreras</th>\n",
       "      <th>Promedio</th>\n",
       "    </tr>\n",
       "  </thead>\n",
       "  <tbody>\n",
       "    <tr>\n",
       "      <th>0</th>\n",
       "      <td>Juan</td>\n",
       "      <td>Actuaría</td>\n",
       "      <td>9.0</td>\n",
       "    </tr>\n",
       "    <tr>\n",
       "      <th>1</th>\n",
       "      <td>Carmen</td>\n",
       "      <td>Mate</td>\n",
       "      <td>7.8</td>\n",
       "    </tr>\n",
       "    <tr>\n",
       "      <th>2</th>\n",
       "      <td>Ana</td>\n",
       "      <td>CC</td>\n",
       "      <td>8.4</td>\n",
       "    </tr>\n",
       "  </tbody>\n",
       "</table>\n",
       "</div>"
      ],
      "text/plain": [
       "  Alumnos  Carreras  Promedio\n",
       "0    Juan  Actuaría       9.0\n",
       "1  Carmen      Mate       7.8\n",
       "2     Ana        CC       8.4"
      ]
     },
     "execution_count": 24,
     "metadata": {},
     "output_type": "execute_result"
    }
   ],
   "source": [
    "df['Promedio'] = [9.0,7.8,8.4]\n",
    "df"
   ]
  },
  {
   "cell_type": "code",
   "execution_count": 25,
   "metadata": {},
   "outputs": [
    {
     "data": {
      "text/html": [
       "<div>\n",
       "<style scoped>\n",
       "    .dataframe tbody tr th:only-of-type {\n",
       "        vertical-align: middle;\n",
       "    }\n",
       "\n",
       "    .dataframe tbody tr th {\n",
       "        vertical-align: top;\n",
       "    }\n",
       "\n",
       "    .dataframe thead th {\n",
       "        text-align: right;\n",
       "    }\n",
       "</style>\n",
       "<table border=\"1\" class=\"dataframe\">\n",
       "  <thead>\n",
       "    <tr style=\"text-align: right;\">\n",
       "      <th></th>\n",
       "      <th>Alumnos</th>\n",
       "      <th>Carreras</th>\n",
       "      <th>Promedio</th>\n",
       "    </tr>\n",
       "  </thead>\n",
       "  <tbody>\n",
       "    <tr>\n",
       "      <th>0</th>\n",
       "      <td>Juan</td>\n",
       "      <td>Actuaría</td>\n",
       "      <td>10.0</td>\n",
       "    </tr>\n",
       "    <tr>\n",
       "      <th>1</th>\n",
       "      <td>Carmen</td>\n",
       "      <td>Mate</td>\n",
       "      <td>8.8</td>\n",
       "    </tr>\n",
       "    <tr>\n",
       "      <th>2</th>\n",
       "      <td>Ana</td>\n",
       "      <td>CC</td>\n",
       "      <td>9.4</td>\n",
       "    </tr>\n",
       "  </tbody>\n",
       "</table>\n",
       "</div>"
      ],
      "text/plain": [
       "  Alumnos  Carreras  Promedio\n",
       "0    Juan  Actuaría      10.0\n",
       "1  Carmen      Mate       8.8\n",
       "2     Ana        CC       9.4"
      ]
     },
     "execution_count": 25,
     "metadata": {},
     "output_type": "execute_result"
    }
   ],
   "source": [
    "# Operar columnas\n",
    "df['Promedio'] = df['Promedio'] + 1\n",
    "df"
   ]
  },
  {
   "cell_type": "code",
   "execution_count": 26,
   "metadata": {},
   "outputs": [
    {
     "data": {
      "text/plain": [
       "9.4"
      ]
     },
     "execution_count": 26,
     "metadata": {},
     "output_type": "execute_result"
    }
   ],
   "source": [
    "# Funciones con columnas\n",
    "df['Promedio'].mean()"
   ]
  },
  {
   "cell_type": "markdown",
   "metadata": {},
   "source": [
    "## NumPy\n",
    "NumPy es una librería que nos permite usar funciones y constantes matemáticas, funciones de algebrea lineal y en general usar métodos científicos. Daremos sólo algunos ejemplos de cómo usar NumPy y en qué situaciones usarlo."
   ]
  },
  {
   "cell_type": "code",
   "execution_count": 28,
   "metadata": {},
   "outputs": [],
   "source": [
    "# Importar NumPy\n",
    "import numpy as np"
   ]
  },
  {
   "cell_type": "code",
   "execution_count": 29,
   "metadata": {},
   "outputs": [
    {
     "data": {
      "text/plain": [
       "array([[ 1, -1,  0],\n",
       "       [ 2,  6, -5],\n",
       "       [ 1,  1, -1]])"
      ]
     },
     "execution_count": 29,
     "metadata": {},
     "output_type": "execute_result"
    }
   ],
   "source": [
    "# Usar array's de NumPy para crear matrices\n",
    "M = np.array([[1,-1,0],[2,6,-5],[1,1,-1]])\n",
    "M"
   ]
  },
  {
   "cell_type": "code",
   "execution_count": 30,
   "metadata": {},
   "outputs": [
    {
     "data": {
      "text/plain": [
       "1.9999999999999998"
      ]
     },
     "execution_count": 30,
     "metadata": {},
     "output_type": "execute_result"
    }
   ],
   "source": [
    "# Calcular determinantes\n",
    "np.linalg.det(M)"
   ]
  },
  {
   "cell_type": "code",
   "execution_count": 31,
   "metadata": {},
   "outputs": [
    {
     "data": {
      "text/plain": [
       "array([1.5, 0.5, 2. ])"
      ]
     },
     "execution_count": 31,
     "metadata": {},
     "output_type": "execute_result"
    }
   ],
   "source": [
    "# Resolver sistemas de ecuaciones linales\n",
    "b = np.array([1,-4,0])\n",
    "np.linalg.solve(M,b)"
   ]
  },
  {
   "cell_type": "code",
   "execution_count": 33,
   "metadata": {},
   "outputs": [],
   "source": [
    "# Usar funciones y constantes de matemáticas\n",
    "g = lambda x: np.pi*(x**2) + np.sin(x)"
   ]
  },
  {
   "cell_type": "code",
   "execution_count": 34,
   "metadata": {},
   "outputs": [
    {
     "data": {
      "text/plain": [
       "3.98306363839769"
      ]
     },
     "execution_count": 34,
     "metadata": {},
     "output_type": "execute_result"
    }
   ],
   "source": [
    "# Ejemplo de la función\n",
    "g(1)"
   ]
  },
  {
   "cell_type": "code",
   "execution_count": 35,
   "metadata": {},
   "outputs": [
    {
     "data": {
      "text/plain": [
       "array([-6.28318531, -6.27060636, -6.25802741, -6.24544846, -6.23286951,\n",
       "       -6.22029056, -6.20771161, -6.19513266, -6.18255371, -6.16997476,\n",
       "       -6.15739581, -6.14481686, -6.13223791, -6.11965896, -6.10708001,\n",
       "       -6.09450106, -6.08192211, -6.06934316, -6.05676422, -6.04418527,\n",
       "       -6.03160632, -6.01902737, -6.00644842, -5.99386947, -5.98129052,\n",
       "       -5.96871157, -5.95613262, -5.94355367, -5.93097472, -5.91839577,\n",
       "       -5.90581682, -5.89323787, -5.88065892, -5.86807997, -5.85550102,\n",
       "       -5.84292207, -5.83034312, -5.81776417, -5.80518522, -5.79260627,\n",
       "       -5.78002732, -5.76744838, -5.75486943, -5.74229048, -5.72971153,\n",
       "       -5.71713258, -5.70455363, -5.69197468, -5.67939573, -5.66681678,\n",
       "       -5.65423783, -5.64165888, -5.62907993, -5.61650098, -5.60392203,\n",
       "       -5.59134308, -5.57876413, -5.56618518, -5.55360623, -5.54102728,\n",
       "       -5.52844833, -5.51586938, -5.50329043, -5.49071148, -5.47813254,\n",
       "       -5.46555359, -5.45297464, -5.44039569, -5.42781674, -5.41523779,\n",
       "       -5.40265884, -5.39007989, -5.37750094, -5.36492199, -5.35234304,\n",
       "       -5.33976409, -5.32718514, -5.31460619, -5.30202724, -5.28944829,\n",
       "       -5.27686934, -5.26429039, -5.25171144, -5.23913249, -5.22655354,\n",
       "       -5.21397459, -5.20139564, -5.1888167 , -5.17623775, -5.1636588 ,\n",
       "       -5.15107985, -5.1385009 , -5.12592195, -5.113343  , -5.10076405,\n",
       "       -5.0881851 , -5.07560615, -5.0630272 , -5.05044825, -5.0378693 ,\n",
       "       -5.02529035, -5.0127114 , -5.00013245, -4.9875535 , -4.97497455,\n",
       "       -4.9623956 , -4.94981665, -4.9372377 , -4.92465875, -4.9120798 ,\n",
       "       -4.89950086, -4.88692191, -4.87434296, -4.86176401, -4.84918506,\n",
       "       -4.83660611, -4.82402716, -4.81144821, -4.79886926, -4.78629031,\n",
       "       -4.77371136, -4.76113241, -4.74855346, -4.73597451, -4.72339556,\n",
       "       -4.71081661, -4.69823766, -4.68565871, -4.67307976, -4.66050081,\n",
       "       -4.64792186, -4.63534291, -4.62276396, -4.61018502, -4.59760607,\n",
       "       -4.58502712, -4.57244817, -4.55986922, -4.54729027, -4.53471132,\n",
       "       -4.52213237, -4.50955342, -4.49697447, -4.48439552, -4.47181657,\n",
       "       -4.45923762, -4.44665867, -4.43407972, -4.42150077, -4.40892182,\n",
       "       -4.39634287, -4.38376392, -4.37118497, -4.35860602, -4.34602707,\n",
       "       -4.33344812, -4.32086918, -4.30829023, -4.29571128, -4.28313233,\n",
       "       -4.27055338, -4.25797443, -4.24539548, -4.23281653, -4.22023758,\n",
       "       -4.20765863, -4.19507968, -4.18250073, -4.16992178, -4.15734283,\n",
       "       -4.14476388, -4.13218493, -4.11960598, -4.10702703, -4.09444808,\n",
       "       -4.08186913, -4.06929018, -4.05671123, -4.04413228, -4.03155334,\n",
       "       -4.01897439, -4.00639544, -3.99381649, -3.98123754, -3.96865859,\n",
       "       -3.95607964, -3.94350069, -3.93092174, -3.91834279, -3.90576384,\n",
       "       -3.89318489, -3.88060594, -3.86802699, -3.85544804, -3.84286909,\n",
       "       -3.83029014, -3.81771119, -3.80513224, -3.79255329, -3.77997434,\n",
       "       -3.76739539, -3.75481644, -3.7422375 , -3.72965855, -3.7170796 ,\n",
       "       -3.70450065, -3.6919217 , -3.67934275, -3.6667638 , -3.65418485,\n",
       "       -3.6416059 , -3.62902695, -3.616448  , -3.60386905, -3.5912901 ,\n",
       "       -3.57871115, -3.5661322 , -3.55355325, -3.5409743 , -3.52839535,\n",
       "       -3.5158164 , -3.50323745, -3.4906585 , -3.47807955, -3.4655006 ,\n",
       "       -3.45292166, -3.44034271, -3.42776376, -3.41518481, -3.40260586,\n",
       "       -3.39002691, -3.37744796, -3.36486901, -3.35229006, -3.33971111,\n",
       "       -3.32713216, -3.31455321, -3.30197426, -3.28939531, -3.27681636,\n",
       "       -3.26423741, -3.25165846, -3.23907951, -3.22650056, -3.21392161,\n",
       "       -3.20134266, -3.18876371, -3.17618476, -3.16360582, -3.15102687,\n",
       "       -3.13844792, -3.12586897, -3.11329002, -3.10071107, -3.08813212,\n",
       "       -3.07555317, -3.06297422, -3.05039527, -3.03781632, -3.02523737,\n",
       "       -3.01265842, -3.00007947, -2.98750052, -2.97492157, -2.96234262,\n",
       "       -2.94976367, -2.93718472, -2.92460577, -2.91202682, -2.89944787,\n",
       "       -2.88686892, -2.87428998, -2.86171103, -2.84913208, -2.83655313,\n",
       "       -2.82397418, -2.81139523, -2.79881628, -2.78623733, -2.77365838,\n",
       "       -2.76107943, -2.74850048, -2.73592153, -2.72334258, -2.71076363,\n",
       "       -2.69818468, -2.68560573, -2.67302678, -2.66044783, -2.64786888,\n",
       "       -2.63528993, -2.62271098, -2.61013203, -2.59755308, -2.58497414,\n",
       "       -2.57239519, -2.55981624, -2.54723729, -2.53465834, -2.52207939,\n",
       "       -2.50950044, -2.49692149, -2.48434254, -2.47176359, -2.45918464,\n",
       "       -2.44660569, -2.43402674, -2.42144779, -2.40886884, -2.39628989,\n",
       "       -2.38371094, -2.37113199, -2.35855304, -2.34597409, -2.33339514,\n",
       "       -2.32081619, -2.30823724, -2.2956583 , -2.28307935, -2.2705004 ,\n",
       "       -2.25792145, -2.2453425 , -2.23276355, -2.2201846 , -2.20760565,\n",
       "       -2.1950267 , -2.18244775, -2.1698688 , -2.15728985, -2.1447109 ,\n",
       "       -2.13213195, -2.119553  , -2.10697405, -2.0943951 , -2.08181615,\n",
       "       -2.0692372 , -2.05665825, -2.0440793 , -2.03150035, -2.01892141,\n",
       "       -2.00634246, -1.99376351, -1.98118456, -1.96860561, -1.95602666,\n",
       "       -1.94344771, -1.93086876, -1.91828981, -1.90571086, -1.89313191,\n",
       "       -1.88055296, -1.86797401, -1.85539506, -1.84281611, -1.83023716,\n",
       "       -1.81765821, -1.80507926, -1.79250031, -1.77992136, -1.76734241,\n",
       "       -1.75476346, -1.74218451, -1.72960557, -1.71702662, -1.70444767,\n",
       "       -1.69186872, -1.67928977, -1.66671082, -1.65413187, -1.64155292,\n",
       "       -1.62897397, -1.61639502, -1.60381607, -1.59123712, -1.57865817,\n",
       "       -1.56607922, -1.55350027, -1.54092132, -1.52834237, -1.51576342,\n",
       "       -1.50318447, -1.49060552, -1.47802657, -1.46544762, -1.45286867,\n",
       "       -1.44028973, -1.42771078, -1.41513183, -1.40255288, -1.38997393,\n",
       "       -1.37739498, -1.36481603, -1.35223708, -1.33965813, -1.32707918,\n",
       "       -1.31450023, -1.30192128, -1.28934233, -1.27676338, -1.26418443,\n",
       "       -1.25160548, -1.23902653, -1.22644758, -1.21386863, -1.20128968,\n",
       "       -1.18871073, -1.17613178, -1.16355283, -1.15097389, -1.13839494,\n",
       "       -1.12581599, -1.11323704, -1.10065809, -1.08807914, -1.07550019,\n",
       "       -1.06292124, -1.05034229, -1.03776334, -1.02518439, -1.01260544,\n",
       "       -1.00002649, -0.98744754, -0.97486859, -0.96228964, -0.94971069,\n",
       "       -0.93713174, -0.92455279, -0.91197384, -0.89939489, -0.88681594,\n",
       "       -0.87423699, -0.86165805, -0.8490791 , -0.83650015, -0.8239212 ,\n",
       "       -0.81134225, -0.7987633 , -0.78618435, -0.7736054 , -0.76102645,\n",
       "       -0.7484475 , -0.73586855, -0.7232896 , -0.71071065, -0.6981317 ,\n",
       "       -0.68555275, -0.6729738 , -0.66039485, -0.6478159 , -0.63523695,\n",
       "       -0.622658  , -0.61007905, -0.5975001 , -0.58492115, -0.57234221,\n",
       "       -0.55976326, -0.54718431, -0.53460536, -0.52202641, -0.50944746,\n",
       "       -0.49686851, -0.48428956, -0.47171061, -0.45913166, -0.44655271,\n",
       "       -0.43397376, -0.42139481, -0.40881586, -0.39623691, -0.38365796,\n",
       "       -0.37107901, -0.35850006, -0.34592111, -0.33334216, -0.32076321,\n",
       "       -0.30818426, -0.29560531, -0.28302637, -0.27044742, -0.25786847,\n",
       "       -0.24528952, -0.23271057, -0.22013162, -0.20755267, -0.19497372,\n",
       "       -0.18239477, -0.16981582, -0.15723687, -0.14465792, -0.13207897,\n",
       "       -0.11950002, -0.10692107, -0.09434212, -0.08176317, -0.06918422,\n",
       "       -0.05660527, -0.04402632, -0.03144737, -0.01886842, -0.00628947,\n",
       "        0.00628947,  0.01886842,  0.03144737,  0.04402632,  0.05660527,\n",
       "        0.06918422,  0.08176317,  0.09434212,  0.10692107,  0.11950002,\n",
       "        0.13207897,  0.14465792,  0.15723687,  0.16981582,  0.18239477,\n",
       "        0.19497372,  0.20755267,  0.22013162,  0.23271057,  0.24528952,\n",
       "        0.25786847,  0.27044742,  0.28302637,  0.29560531,  0.30818426,\n",
       "        0.32076321,  0.33334216,  0.34592111,  0.35850006,  0.37107901,\n",
       "        0.38365796,  0.39623691,  0.40881586,  0.42139481,  0.43397376,\n",
       "        0.44655271,  0.45913166,  0.47171061,  0.48428956,  0.49686851,\n",
       "        0.50944746,  0.52202641,  0.53460536,  0.54718431,  0.55976326,\n",
       "        0.57234221,  0.58492115,  0.5975001 ,  0.61007905,  0.622658  ,\n",
       "        0.63523695,  0.6478159 ,  0.66039485,  0.6729738 ,  0.68555275,\n",
       "        0.6981317 ,  0.71071065,  0.7232896 ,  0.73586855,  0.7484475 ,\n",
       "        0.76102645,  0.7736054 ,  0.78618435,  0.7987633 ,  0.81134225,\n",
       "        0.8239212 ,  0.83650015,  0.8490791 ,  0.86165805,  0.87423699,\n",
       "        0.88681594,  0.89939489,  0.91197384,  0.92455279,  0.93713174,\n",
       "        0.94971069,  0.96228964,  0.97486859,  0.98744754,  1.00002649,\n",
       "        1.01260544,  1.02518439,  1.03776334,  1.05034229,  1.06292124,\n",
       "        1.07550019,  1.08807914,  1.10065809,  1.11323704,  1.12581599,\n",
       "        1.13839494,  1.15097389,  1.16355283,  1.17613178,  1.18871073,\n",
       "        1.20128968,  1.21386863,  1.22644758,  1.23902653,  1.25160548,\n",
       "        1.26418443,  1.27676338,  1.28934233,  1.30192128,  1.31450023,\n",
       "        1.32707918,  1.33965813,  1.35223708,  1.36481603,  1.37739498,\n",
       "        1.38997393,  1.40255288,  1.41513183,  1.42771078,  1.44028973,\n",
       "        1.45286867,  1.46544762,  1.47802657,  1.49060552,  1.50318447,\n",
       "        1.51576342,  1.52834237,  1.54092132,  1.55350027,  1.56607922,\n",
       "        1.57865817,  1.59123712,  1.60381607,  1.61639502,  1.62897397,\n",
       "        1.64155292,  1.65413187,  1.66671082,  1.67928977,  1.69186872,\n",
       "        1.70444767,  1.71702662,  1.72960557,  1.74218451,  1.75476346,\n",
       "        1.76734241,  1.77992136,  1.79250031,  1.80507926,  1.81765821,\n",
       "        1.83023716,  1.84281611,  1.85539506,  1.86797401,  1.88055296,\n",
       "        1.89313191,  1.90571086,  1.91828981,  1.93086876,  1.94344771,\n",
       "        1.95602666,  1.96860561,  1.98118456,  1.99376351,  2.00634246,\n",
       "        2.01892141,  2.03150035,  2.0440793 ,  2.05665825,  2.0692372 ,\n",
       "        2.08181615,  2.0943951 ,  2.10697405,  2.119553  ,  2.13213195,\n",
       "        2.1447109 ,  2.15728985,  2.1698688 ,  2.18244775,  2.1950267 ,\n",
       "        2.20760565,  2.2201846 ,  2.23276355,  2.2453425 ,  2.25792145,\n",
       "        2.2705004 ,  2.28307935,  2.2956583 ,  2.30823724,  2.32081619,\n",
       "        2.33339514,  2.34597409,  2.35855304,  2.37113199,  2.38371094,\n",
       "        2.39628989,  2.40886884,  2.42144779,  2.43402674,  2.44660569,\n",
       "        2.45918464,  2.47176359,  2.48434254,  2.49692149,  2.50950044,\n",
       "        2.52207939,  2.53465834,  2.54723729,  2.55981624,  2.57239519,\n",
       "        2.58497414,  2.59755308,  2.61013203,  2.62271098,  2.63528993,\n",
       "        2.64786888,  2.66044783,  2.67302678,  2.68560573,  2.69818468,\n",
       "        2.71076363,  2.72334258,  2.73592153,  2.74850048,  2.76107943,\n",
       "        2.77365838,  2.78623733,  2.79881628,  2.81139523,  2.82397418,\n",
       "        2.83655313,  2.84913208,  2.86171103,  2.87428998,  2.88686892,\n",
       "        2.89944787,  2.91202682,  2.92460577,  2.93718472,  2.94976367,\n",
       "        2.96234262,  2.97492157,  2.98750052,  3.00007947,  3.01265842,\n",
       "        3.02523737,  3.03781632,  3.05039527,  3.06297422,  3.07555317,\n",
       "        3.08813212,  3.10071107,  3.11329002,  3.12586897,  3.13844792,\n",
       "        3.15102687,  3.16360582,  3.17618476,  3.18876371,  3.20134266,\n",
       "        3.21392161,  3.22650056,  3.23907951,  3.25165846,  3.26423741,\n",
       "        3.27681636,  3.28939531,  3.30197426,  3.31455321,  3.32713216,\n",
       "        3.33971111,  3.35229006,  3.36486901,  3.37744796,  3.39002691,\n",
       "        3.40260586,  3.41518481,  3.42776376,  3.44034271,  3.45292166,\n",
       "        3.4655006 ,  3.47807955,  3.4906585 ,  3.50323745,  3.5158164 ,\n",
       "        3.52839535,  3.5409743 ,  3.55355325,  3.5661322 ,  3.57871115,\n",
       "        3.5912901 ,  3.60386905,  3.616448  ,  3.62902695,  3.6416059 ,\n",
       "        3.65418485,  3.6667638 ,  3.67934275,  3.6919217 ,  3.70450065,\n",
       "        3.7170796 ,  3.72965855,  3.7422375 ,  3.75481644,  3.76739539,\n",
       "        3.77997434,  3.79255329,  3.80513224,  3.81771119,  3.83029014,\n",
       "        3.84286909,  3.85544804,  3.86802699,  3.88060594,  3.89318489,\n",
       "        3.90576384,  3.91834279,  3.93092174,  3.94350069,  3.95607964,\n",
       "        3.96865859,  3.98123754,  3.99381649,  4.00639544,  4.01897439,\n",
       "        4.03155334,  4.04413228,  4.05671123,  4.06929018,  4.08186913,\n",
       "        4.09444808,  4.10702703,  4.11960598,  4.13218493,  4.14476388,\n",
       "        4.15734283,  4.16992178,  4.18250073,  4.19507968,  4.20765863,\n",
       "        4.22023758,  4.23281653,  4.24539548,  4.25797443,  4.27055338,\n",
       "        4.28313233,  4.29571128,  4.30829023,  4.32086918,  4.33344812,\n",
       "        4.34602707,  4.35860602,  4.37118497,  4.38376392,  4.39634287,\n",
       "        4.40892182,  4.42150077,  4.43407972,  4.44665867,  4.45923762,\n",
       "        4.47181657,  4.48439552,  4.49697447,  4.50955342,  4.52213237,\n",
       "        4.53471132,  4.54729027,  4.55986922,  4.57244817,  4.58502712,\n",
       "        4.59760607,  4.61018502,  4.62276396,  4.63534291,  4.64792186,\n",
       "        4.66050081,  4.67307976,  4.68565871,  4.69823766,  4.71081661,\n",
       "        4.72339556,  4.73597451,  4.74855346,  4.76113241,  4.77371136,\n",
       "        4.78629031,  4.79886926,  4.81144821,  4.82402716,  4.83660611,\n",
       "        4.84918506,  4.86176401,  4.87434296,  4.88692191,  4.89950086,\n",
       "        4.9120798 ,  4.92465875,  4.9372377 ,  4.94981665,  4.9623956 ,\n",
       "        4.97497455,  4.9875535 ,  5.00013245,  5.0127114 ,  5.02529035,\n",
       "        5.0378693 ,  5.05044825,  5.0630272 ,  5.07560615,  5.0881851 ,\n",
       "        5.10076405,  5.113343  ,  5.12592195,  5.1385009 ,  5.15107985,\n",
       "        5.1636588 ,  5.17623775,  5.1888167 ,  5.20139564,  5.21397459,\n",
       "        5.22655354,  5.23913249,  5.25171144,  5.26429039,  5.27686934,\n",
       "        5.28944829,  5.30202724,  5.31460619,  5.32718514,  5.33976409,\n",
       "        5.35234304,  5.36492199,  5.37750094,  5.39007989,  5.40265884,\n",
       "        5.41523779,  5.42781674,  5.44039569,  5.45297464,  5.46555359,\n",
       "        5.47813254,  5.49071148,  5.50329043,  5.51586938,  5.52844833,\n",
       "        5.54102728,  5.55360623,  5.56618518,  5.57876413,  5.59134308,\n",
       "        5.60392203,  5.61650098,  5.62907993,  5.64165888,  5.65423783,\n",
       "        5.66681678,  5.67939573,  5.69197468,  5.70455363,  5.71713258,\n",
       "        5.72971153,  5.74229048,  5.75486943,  5.76744838,  5.78002732,\n",
       "        5.79260627,  5.80518522,  5.81776417,  5.83034312,  5.84292207,\n",
       "        5.85550102,  5.86807997,  5.88065892,  5.89323787,  5.90581682,\n",
       "        5.91839577,  5.93097472,  5.94355367,  5.95613262,  5.96871157,\n",
       "        5.98129052,  5.99386947,  6.00644842,  6.01902737,  6.03160632,\n",
       "        6.04418527,  6.05676422,  6.06934316,  6.08192211,  6.09450106,\n",
       "        6.10708001,  6.11965896,  6.13223791,  6.14481686,  6.15739581,\n",
       "        6.16997476,  6.18255371,  6.19513266,  6.20771161,  6.22029056,\n",
       "        6.23286951,  6.24544846,  6.25802741,  6.27060636,  6.28318531])"
      ]
     },
     "execution_count": 35,
     "metadata": {},
     "output_type": "execute_result"
    }
   ],
   "source": [
    "# Intervalos equiespaciados\n",
    "intervalo = np.linspace(-2*np.pi, 2*np.pi, 1000)\n",
    "intervalo"
   ]
  },
  {
   "cell_type": "markdown",
   "metadata": {},
   "source": [
    "## Matplotlib / Seaborn\n",
    "Ambas librerías nos permiten realizar una serie de diferentes gráficos."
   ]
  },
  {
   "cell_type": "code",
   "execution_count": 36,
   "metadata": {},
   "outputs": [],
   "source": [
    "# Importar Matplotlib y Seaborn\n",
    "import matplotlib.pyplot as plt\n",
    "import seaborn as sns"
   ]
  },
  {
   "cell_type": "code",
   "execution_count": 38,
   "metadata": {},
   "outputs": [],
   "source": [
    "# Graficar una función y su derivada\n",
    "def derivative(x,f,h):\n",
    "    pendiente = (f(x+h) - f(x)) / (h)\n",
    "    return pendiente\n",
    "def grafica_derivada(f,a,b, string = \"Plot f'vs f\"):\n",
    "    h = 0.001\n",
    "    intervalo = np.linspace(a,b,1000)\n",
    "    df = pd.DataFrame({'x':intervalo})\n",
    "    # Aplicamos la función derivative creada anteriormente.\n",
    "    df[\"f'(x)\"] = df.apply(derivative, args=(f,h))\n",
    "    df['f(x)'] = df['x'].apply(f)\n",
    "    sns.set_style(\"darkgrid\")\n",
    "    plt.figure(figsize = (12,8))\n",
    "    ax = sns.lineplot(x = 'x', y = \"f'(x)\",data = df, linewidth = 2, label = \"f'\" )\n",
    "    ax = sns.lineplot(x = 'x', y = 'f(x)', data = df, linewidth = 2, label = 'f')\n",
    "    ax.set_title(string,fontsize = '25')\n",
    "    ax.set_xlabel('x',fontsize = '20')\n",
    "    ax.set_ylabel(\"Values\", fontsize = '20')\n",
    "    plt.show()\n",
    "    return df"
   ]
  },
  {
   "cell_type": "code",
   "execution_count": 39,
   "metadata": {},
   "outputs": [
    {
     "data": {
      "image/png": "[encoded data removed]",
      "text/plain": [
       "<Figure size 864x576 with 1 Axes>"
      ]
     },
     "metadata": {},
     "output_type": "display_data"
    }
   ],
   "source": [
    "# Ejemplo\n",
    "f = lambda x: x**3 + 2*x\n",
    "df_2 = grafica_derivada(f, -2, 2)"
   ]
  },
  {
   "cell_type": "code",
   "execution_count": 40,
   "metadata": {},
   "outputs": [
    {
     "data": {
      "text/html": [
       "<div>\n",
       "<style scoped>\n",
       "    .dataframe tbody tr th:only-of-type {\n",
       "        vertical-align: middle;\n",
       "    }\n",
       "\n",
       "    .dataframe tbody tr th {\n",
       "        vertical-align: top;\n",
       "    }\n",
       "\n",
       "    .dataframe thead th {\n",
       "        text-align: right;\n",
       "    }\n",
       "</style>\n",
       "<table border=\"1\" class=\"dataframe\">\n",
       "  <thead>\n",
       "    <tr style=\"text-align: right;\">\n",
       "      <th></th>\n",
       "      <th>x</th>\n",
       "      <th>f'(x)</th>\n",
       "      <th>f(x)</th>\n",
       "    </tr>\n",
       "  </thead>\n",
       "  <tbody>\n",
       "    <tr>\n",
       "      <th>0</th>\n",
       "      <td>-2.000000</td>\n",
       "      <td>13.994001</td>\n",
       "      <td>-12.000000</td>\n",
       "    </tr>\n",
       "    <tr>\n",
       "      <th>1</th>\n",
       "      <td>-1.995996</td>\n",
       "      <td>13.946013</td>\n",
       "      <td>-11.944040</td>\n",
       "    </tr>\n",
       "    <tr>\n",
       "      <th>2</th>\n",
       "      <td>-1.991992</td>\n",
       "      <td>13.898121</td>\n",
       "      <td>-11.888272</td>\n",
       "    </tr>\n",
       "    <tr>\n",
       "      <th>3</th>\n",
       "      <td>-1.987988</td>\n",
       "      <td>13.850326</td>\n",
       "      <td>-11.832696</td>\n",
       "    </tr>\n",
       "    <tr>\n",
       "      <th>4</th>\n",
       "      <td>-1.983984</td>\n",
       "      <td>13.802626</td>\n",
       "      <td>-11.777311</td>\n",
       "    </tr>\n",
       "    <tr>\n",
       "      <th>...</th>\n",
       "      <td>...</td>\n",
       "      <td>...</td>\n",
       "      <td>...</td>\n",
       "    </tr>\n",
       "    <tr>\n",
       "      <th>995</th>\n",
       "      <td>1.983984</td>\n",
       "      <td>13.814530</td>\n",
       "      <td>11.777311</td>\n",
       "    </tr>\n",
       "    <tr>\n",
       "      <th>996</th>\n",
       "      <td>1.987988</td>\n",
       "      <td>13.862254</td>\n",
       "      <td>11.832696</td>\n",
       "    </tr>\n",
       "    <tr>\n",
       "      <th>997</th>\n",
       "      <td>1.991992</td>\n",
       "      <td>13.910073</td>\n",
       "      <td>11.888272</td>\n",
       "    </tr>\n",
       "    <tr>\n",
       "      <th>998</th>\n",
       "      <td>1.995996</td>\n",
       "      <td>13.957989</td>\n",
       "      <td>11.944040</td>\n",
       "    </tr>\n",
       "    <tr>\n",
       "      <th>999</th>\n",
       "      <td>2.000000</td>\n",
       "      <td>14.006001</td>\n",
       "      <td>12.000000</td>\n",
       "    </tr>\n",
       "  </tbody>\n",
       "</table>\n",
       "<p>1000 rows × 3 columns</p>\n",
       "</div>"
      ],
      "text/plain": [
       "            x      f'(x)       f(x)\n",
       "0   -2.000000  13.994001 -12.000000\n",
       "1   -1.995996  13.946013 -11.944040\n",
       "2   -1.991992  13.898121 -11.888272\n",
       "3   -1.987988  13.850326 -11.832696\n",
       "4   -1.983984  13.802626 -11.777311\n",
       "..        ...        ...        ...\n",
       "995  1.983984  13.814530  11.777311\n",
       "996  1.987988  13.862254  11.832696\n",
       "997  1.991992  13.910073  11.888272\n",
       "998  1.995996  13.957989  11.944040\n",
       "999  2.000000  14.006001  12.000000\n",
       "\n",
       "[1000 rows x 3 columns]"
      ]
     },
     "execution_count": 40,
     "metadata": {},
     "output_type": "execute_result"
    }
   ],
   "source": [
    "# Mostrar el DF\n",
    "df_2"
   ]
  },
  {
   "cell_type": "code",
   "execution_count": null,
   "metadata": {},
   "outputs": [],
   "source": []
  }
 ],
 "metadata": {
  "kernelspec": {
   "display_name": "Python 3",
   "language": "python",
   "name": "python3"
  },
  "language_info": {
   "codemirror_mode": {
    "name": "ipython",
    "version": 3
   },
   "file_extension": ".py",
   "mimetype": "text/x-python",
   "name": "python",
   "nbconvert_exporter": "python",
   "pygments_lexer": "ipython3",
   "version": "3.8.5"
  }
 },
 "nbformat": 4,
 "nbformat_minor": 4
}
