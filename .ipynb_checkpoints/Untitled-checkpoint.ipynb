{
 "cells": [
  {
   "cell_type": "markdown",
   "metadata": {},
   "source": [
    "# __Simular Variables Aleatorias (pt 2)__"
   ]
  },
  {
   "cell_type": "markdown",
   "metadata": {},
   "source": [
    "<img src = \"https://miro.medium.com/max/1400/1*Ejuq2_bJxz0afgLGwYayZQ.png\">"
   ]
  },
  {
   "cell_type": "markdown",
   "metadata": {},
   "source": [
    "## Objetivo\n",
    "Recordemos que en las sesiones donde simulamos variables aleatorias, partimos del supuesto de que nuestra computadora sabe simular variables aleatorias uniformes, esto por medio de algoritmos de generación de números pseudo-aleatorios, y nuestro objetivo es que, usando únicamente v.a's uniformes, podamos simular la mayoría o de ser posible todas las distribuciones vistas en clase.\n",
    "\n",
    "Pero, de momento qué variables aleatorias hemos podido simular?\n",
    "* Bernoulli\n",
    "* Discreta Finita\n",
    "* Geométrica\n",
    "* Binomial\n",
    "* Poisson\n",
    "* Exponencial\n",
    "* Cauchy\n",
    "\n",
    "Y a su vez, conocemos el método de la inversión que nos permite simular v.a's cuya función de distribución sea invertible. El método antes mencionado no nos permite simular v.a's continuas como la *Normal*, *Gamma*, *Beta*, *Chi cuadrada* o *t-student*. Por ello utilizaremos los resultados vistos en clase acerca de transformaciones de variables aleatorias y suma de variables aleatorias para poder obtener dichas distribuciones."
   ]
  },
  {
   "cell_type": "markdown",
   "metadata": {},
   "source": [
    "## Método de Box-Muller\n",
    "\n"
   ]
  }
 ],
 "metadata": {
  "kernelspec": {
   "display_name": "Python 3",
   "language": "python",
   "name": "python3"
  },
  "language_info": {
   "codemirror_mode": {
    "name": "ipython",
    "version": 3
   },
   "file_extension": ".py",
   "mimetype": "text/x-python",
   "name": "python",
   "nbconvert_exporter": "python",
   "pygments_lexer": "ipython3",
   "version": "3.8.5"
  }
 },
 "nbformat": 4,
 "nbformat_minor": 4
}
