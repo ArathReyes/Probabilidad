{
 "cells": [
  {
   "cell_type": "markdown",
   "metadata": {},
   "source": [
    "# __Simulando Variables Aleatorias__"
   ]
  },
  {
   "cell_type": "markdown",
   "metadata": {},
   "source": [
    "<img src = \"https://hackaday.com/wp-content/uploads/2014/12/randomness.jpg?w=800\"/>"
   ]
  },
  {
   "cell_type": "markdown",
   "metadata": {},
   "source": [
    "De momento ustedes conocen las siguientes variables aleatorias con las propiedades a mencionar:\n",
    "\n",
    "## Discretas\n",
    "\n",
    "* $Bernoulli(p)$\n",
    "$$p(i) := \\begin{cases}\n",
    "            p  \\quad\\text{   si } i = 1\\\\\n",
    "            1-p \\text{ si } i = 0\\end{cases}$$\n",
    "$$\\mathbb{E}[X] = p\\quad\\quad\\quad Var(X) = p(1-p)$$\n",
    "\n",
    "* $Binomial(n,p)$\n",
    "$$p(i):= {n \\choose i}p^{i}(1-p)^{n-i}\\quad\\forall i\\in\\{1,\\cdots,n\\}$$\n",
    "$$\\mathbb{E}[X] = np\\quad\\quad\\quad Var(X)= np(1-p)$$\n",
    "\n",
    "* $Unif(a,b)$\n",
    "$$p(i):= \\frac{1}{b-a+1}\\quad\\forall i\\in\\{a,a+1,\\cdots,b-1,b\\}$$\n",
    "$$\\mathbb{E}[X] = \\frac{a+b}{2}\\quad\\quad\\quad Var(X)=\\frac{(b-a+1)^2 - 1}{12}$$\n",
    "\n",
    "* $Poisson(\\lambda)$\n",
    "$$p(i) := \\frac{\\lambda^{i} e^{-\\lambda}}{i!}\\qquad \\forall i \\in \\mathbb{N}\\cup\\{0\\}$$\n",
    "$$\\mathbb{E}[X] = \\lambda =Var(X)$$\n",
    "\n",
    "* $NegBinom(r,p)$\n",
    "$$p(i):= {i + r - 1 \\choose i}p^{i}(1-p)^{r}\\qquad \\forall i\\in \\mathbb{N}\\cup\\{0\\}$$\n",
    "$$\\mathbb{E}[X] = \\frac{rp}{1-p}\\qquad Var(X)= \\frac{rp}{(1-p)^2}$$\n",
    "\n",
    "* $Geom(p)$\n",
    "\n",
    "$$p(i) := (1-p)^{i-1}p\\qquad \\forall i\\in \\mathbb{N}-\\{0\\}$$\n",
    "$$\\mathbb{E}[X] = \\frac{1}{p}\\qquad Var(X) = \\frac{1-p}{p^2}$$"
   ]
  },
  {
   "cell_type": "markdown",
   "metadata": {},
   "source": [
    "## Continuas\n",
    "\n",
    "* $Unif(a,b)$\n",
    "$$f(x):=\\frac{1}{b-a}\\quad\\forall x\\in[a,b]$$\n",
    "$$\\mathbb{E}[X]=\\frac{a+b}{2}\\quad\\quad\\quad Var(X) = \\frac{(b-a)^2}{12}$$\n",
    "\n",
    "* $Exp(\\lambda)$\n",
    "$$f(x):=\\lambda e^{-\\lambda x}\\quad\\forall x\\in[0,\\infty)$$\n",
    "$$\\mathbb{E}[X] = \\frac{1}{\\lambda}\\quad\\quad\\quad Var(X)= \\frac{1}{\\lambda^2}$$\n",
    "\n",
    "* $N(\\mu,\\sigma^2)$\n",
    "$$f(x):=\\frac{1}{\\sigma\\sqrt{2\\pi}}e^{-\\frac{1}{2}\\big(\\frac{x-\\mu}{\\sigma}\\big)^2}\\quad\\forall x\\in\\mathbb{R}$$\n",
    "$$\\mathbb{E}[X]= \\mu\\quad\\quad\\quad Var(X)=\\sigma^2$$\n",
    "\n",
    "* $Gamma(\\alpha,\\beta)$\n",
    "\n",
    "$$f(x):=\\frac{\\beta^{\\alpha}}{\\Gamma(\\alpha)}x^{\\alpha-1}e^{-\\beta x}\\quad\\forall x\\in(0,\\infty)$$\n",
    "Donde:\n",
    "$$\\Gamma(\\alpha):=\\int_{0}^{\\infty} t^{\\alpha-1}e^{-t}\\, dt$$\n",
    "\n",
    "$$\\mathbb{E}[X] = \\frac{\\alpha}{\\beta}\\quad\\quad\\quad Var(X) = \\frac{\\alpha}{\\beta^2}$$\n",
    "\n",
    "* $Beta(\\alpha,\\beta)$\n",
    "\n",
    "$$f(x):=\\frac{x^{\\alpha-1}(1-x)^{\\beta-1}}{B(\\alpha,\\beta)}\\quad\\forall x\\in[0,1]$$\n",
    "Donde:\n",
    "$$B(\\alpha,\\beta)=\\frac{\\Gamma(\\alpha)\\Gamma(\\beta)}{\\Gamma(\\alpha+\\beta)}$$\n",
    "\n",
    "$$\\mathbb{E}[X]=\\frac{\\alpha}{\\alpha+\\beta}\\quad\\quad\\quad Var(X)=\\frac{\\alpha\\beta}{(\\alpha+\\beta)^2(\\alpha+\\beta +1)}$$"
   ]
  },
  {
   "cell_type": "markdown",
   "metadata": {},
   "source": [
    "# Números pseudo-aleatorios\n",
    "\n",
    "Entendemos por una *sucesión de números pseudo-aleatorios* $U_1, U_2, \\cdots$, como una sucesión determinista de reales en $(0,1)$, tales que estadísticamente siguen un comportamiento aleatorio, particularmente siguen una distribución $U\\thicksim Unif(0,1)$.\n",
    "\n",
    "\n",
    "## ¿Cómo los generamos?\n",
    "\n",
    "Existe una gran variedad de *Generadores de Números Pseudo-Aleatorios*, pero dado el tiempo y el enfoque que pretendemos darle a esta clase, mostraremos únicamente uno de ellos, el cual es el más clásico y de los más antiguos.\n",
    "\n",
    "### Generadores Congruenciales\n",
    "\n",
    "$$X_{n+1} = (aX_{n} + b)mod(m)$$\n",
    "\n",
    "Donde $X, a, b, m, \\in \\mathbb{N}$. Y definimos lo siguiente:\n",
    "* $m$ : Se conoce como el módulo, está dado de forma arbitraria y generalmente el usuario no tiene ingerencia sobre su elección\n",
    "* $X_{0}$: Se conoce como la *semilla* y el número con el que partimos, este está dado por el usuario\n",
    "* $b$ : Se le conoce como el *incremento*, está dado de forma arbitraria y generalmente el usuario no tiene ingerencia sobre su elección\n",
    "* $a$ : Se le conoce como el *multiplicador*, está dado de forma arbitraria y generalmente el usuario no tiene ingerencia sobre su elección\n",
    "\n",
    "Donde $X_{0}, a, b \\in \\{0,1,\\cdots, m-1\\}$ y en consecuencia, $X_n \\in \\{0,1, \\cdots, m-1\\}$.\n",
    "\n",
    "Y para generar el número $Unif(0,1)$ hacemos la nueva sucesión:\n",
    "$$Y_n := \\frac{X_n}{m}\\in (0,1)$$\n",
    "\n",
    "$\\underline{Ejemplo:}$\n",
    "\n",
    "Consideremos:\n",
    "$$X_{n+1} = (9X_n + 3)mod(2^{4})$$\n",
    "Entonces $X_{0}\\in \\{0,1,\\cdots 15\\}$, tomamos $X_{0}=3 \\Rightarrow $\n",
    "$$X_1 = (9*3 + 3)mod(16) = 30 mod(16) = 14$$\n",
    "$$X_2 = (9*14 +3) mod(16) = 129mod(16) = 1$$\n",
    "$$X_3 = (9*1 +3) mod(16) = 12$$\n",
    "\n",
    "De esta forma los número pseudoaleatorios obtenidos son:\n",
    "$$\\frac{3}{16}, \\frac{14}{16}, \\frac{1}{16}, \\frac{12}{16}, \\frac{15}{16}, \\frac{10}{16}, \\cdots$$\n",
    "En expansión decimal se tiene:\n",
    "$$0.1875, 0.875, 0.0625, 0.75, 0.9375, 0.625, \\cdots$$\n",
    "\n",
    "Notemos que en general estos números aparentan cierta aleatoriedad, sin embargo, sabemos que están generados a partir de un algoritmo recursivo, es decir, sabemos que NO son aleatorios, pero ¿qué tan aleatorios son? o ¿cómo medimos la aleatoriedad de esta sucesión?.\n",
    "\n",
    "## Pruebas de Aleatoriedad (platicado)\n",
    "\n",
    "En sus próximos semestres verán en sus clases de estadística, particularmente en estadística 1, el concepto de pruebas de hipótesis, que a grandes rasgos es una series de técnicas que pretenden contrastar dos hipótesis asignadas a un conjunto de datos (en nuestro caso sería la sucesión de números generados) y para así llegar a una conclusión bajo cierto nivel de significancia. En estadística 2, verán como ajustar una distribución a un conjunto de datos dado, a estas pruebas se les conoce como pruebas de bondad de ajuste, particularmente nos interesa una llamada Anderson-Darling, otra forma es contrastar los momentos por medio de pruebas de hipótesis, es decir, si estos tienen la media y varianza de una uniforme(0,1) y, de manera más intuitiva, podemos graficar su densidad y distribución empírica, y así sacar conclusiones. En resumen, se tiene que aplicar las siguientes pruebas y sacar conclusiones:\n",
    "* Gráficos de distribución\n",
    "* Contraste de Momentos (Pruebas de Hipótesis y/o Estimación Puntual)\n",
    "* Pruebas de Bondad de Ajuste (preferentemente Anderson-Darling para una uniforme(0,1))\n",
    "* Prueba de Aleatoriedad Wald–Wolfowitz"
   ]
  },
  {
   "cell_type": "markdown",
   "metadata": {},
   "source": [
    "# Simular variables aleatorias discretas\n",
    "Como hemos visto tenemos una gran cantidad de variable aleatorias con diferentes distribuciones y propiedades particulares, pero ¿cómo podemos simularlas?\n",
    "\n",
    "De aquí en adelante, siempre usaremos la variable aleatoria uniforme continua para simular las demás variables aleatorias.\n",
    "\n",
    "### Bernoulli(p)\n",
    "\n",
    "De esta manera, veamos cómo simular una variable aleatoria $Bernoulli(p)$. Primero fijemos un valor de $p\\in(0,1)$ y veamos que si definimos a la variable aleatoria:\n",
    "\n",
    "$$X:= \\begin{cases}\n",
    "            1  \\quad\\text{   si } U < p\\\\\n",
    "            0 \\quad\\text{ si } U \\geq p\\end{cases}$$\n",
    "            \n",
    "Donde $U\\thicksim Unif(0,1)$. Entonces $X\\thicksim Bernoulli(p)$, pues:\n",
    "$\\newcommand{\\P}{\\mathbb{P}}$\n",
    "\n",
    "$$\\P(X = 1) = \\P(U<p) = \\int_{0}^{p}1\\, du = p\\quad\\text{&}\\quad \\P(X = 0) = \\P(U\\geq p) = \\int_{p}^{1} 1\\, du = 1-p$$\n",
    "\n",
    "Es decir, $X$ tiene la misma función de densidad de una v.a. $Bernoulli(p)$"
   ]
  },
  {
   "cell_type": "code",
   "execution_count": 1,
   "metadata": {},
   "outputs": [],
   "source": [
    "# Bibliotecas\n",
    "import numpy as np\n",
    "from numpy.random import uniform as unif # unif(0,1)\n",
    "from pandas import DataFrame\n",
    "import matplotlib.pyplot as plt\n",
    "import seaborn as sns"
   ]
  },
  {
   "cell_type": "code",
   "execution_count": 2,
   "metadata": {},
   "outputs": [],
   "source": [
    "# Definamos la variable aleatoria Bernoulli\n",
    "def Bernoulli(p):\n",
    "    U = unif(0,1)\n",
    "    x = 1 if U<p else 0\n",
    "    return x"
   ]
  },
  {
   "cell_type": "code",
   "execution_count": 3,
   "metadata": {},
   "outputs": [
    {
     "data": {
      "text/plain": [
       "0.33145"
      ]
     },
     "execution_count": 3,
     "metadata": {},
     "output_type": "execute_result"
    }
   ],
   "source": [
    "# Mostremos que efectivamente converge al valor de p.\n",
    "suma = 0\n",
    "n = 100000\n",
    "p = 1/3\n",
    "for i in range(n):\n",
    "    suma += Bernoulli(p)\n",
    "# Estimación de p, pues E[X] = p\n",
    "suma/n"
   ]
  },
  {
   "cell_type": "markdown",
   "metadata": {},
   "source": [
    "### Discreta Finita\n",
    "\n",
    "Supongan que quieren modelar una variable aleatoria $X$ tal que $X\\in\\{x_1,\\cdots, x_n\\}$ p.a. $n\\in\\mathbb{N}$ tal que:\n",
    "$$\\P(X=x_k) = p_k\\quad\\forall k\\in\\{1,\\cdots,n\\}$$\n",
    "$$\\text{tal que } \\sum_{k=0}^{n} p_k = 1$$\n",
    "donde $p_0:=0$\n",
    "\n",
    "Consideremos ahora la siguiente variable aleatoria:\n",
    "$$\\hat{X}:= \\begin{cases}\n",
    "            x_k  \\quad\\text{   si } \\sum_{m=0}^{k-1}p_m \\leq U < \\sum_{m=0}^{k}p_m\\quad\\forall k\\in\\{1,\\cdots,n\\} \\\\\n",
    "            0 \\quad\\text{ en otro caso } \\end{cases}$$\n",
    "Y de esta manera:\n",
    "$$\\P(\\hat{X} = x_k) = \\P\\Big(\\sum_{m=0}^{k-1}p_m \\leq U < \\sum_{m=0}^{k}p_m\\Big) = \\P\\Big(U < \\sum_{m=0}^{k}p_m\\Big) - \\P\\Big(\\sum_{m=0}^{k-1}p_m \\leq U\\Big)$$ \n",
    "$$= F_{U}\\Big(\\sum_{m=0}^{k}p_m\\Big)-F_{U}\\Big(\\sum_{m=0}^{k-1}p_m\\Big) = \\sum_{m=0}^{k}p_m - \\sum_{m=0}^{k-1}p_m = p_{k}$$\n",
    "\n",
    "$$\\text{i.e. }\\P(\\hat{X} = x_k) = p_k\\quad\\forall k\\in\\{1,\\cdots,n\\}$$ \n",
    "\n",
    "Es decir:\n",
    "$$X \\overset{d}{=} \\hat{X}$$\n",
    "\n",
    "De esta forma hemos encontrado una manera de simular $X$ por medio de una distribución uniforme."
   ]
  },
  {
   "cell_type": "code",
   "execution_count": 4,
   "metadata": {},
   "outputs": [],
   "source": [
    "def DiscretaFinita(x_list, p_list):\n",
    "    df = DataFrame({'x':x_list, 'p':p_list})\n",
    "    df[\"F\"]=df['p'].cumsum()\n",
    "    U = unif(0,1)\n",
    "    c = 0\n",
    "    while U>df[\"F\"][c]:\n",
    "        c+=1\n",
    "    return df['x'][c]"
   ]
  },
  {
   "cell_type": "code",
   "execution_count": 6,
   "metadata": {},
   "outputs": [
    {
     "name": "stdout",
     "output_type": "stream",
     "text": [
      "0.25\n",
      "0.56\n",
      "0.19\n"
     ]
    }
   ],
   "source": [
    "# Prueba:\n",
    "n = 100\n",
    "x_list = [1,2,3]\n",
    "p_list = [0.3,0.5,0.2]\n",
    "c_1 = 0\n",
    "c_2 = 0\n",
    "c_3 = 0\n",
    "for _ in range(n):\n",
    "    x = DiscretaFinita(x_list, p_list)\n",
    "    if x == 1:\n",
    "        c_1+=1\n",
    "    elif x == 2:\n",
    "        c_2+=1\n",
    "    else:\n",
    "        c_3 +=1\n",
    "print(c_1/n)\n",
    "print(c_2/n)\n",
    "print(c_3/n)"
   ]
  },
  {
   "cell_type": "markdown",
   "metadata": {},
   "source": [
    "### Geométrica\n",
    "\n",
    "Recordemos que una variable aleatoria $Geom(p)$ es aquella que modela el número de intentos necesarios hasta obtener un evento de éxito, es decir, el número de intentos antes de que una v.a. $Bernoulli(p)$ es igual a $1$. De esta manera podemos simular a esta v.a. creando un ciclo hasta que obtengamos el primer éxito de una v.a. $Bernoulli(p)$."
   ]
  },
  {
   "cell_type": "code",
   "execution_count": 7,
   "metadata": {},
   "outputs": [],
   "source": [
    "def Geometrica(p):\n",
    "    c = 1\n",
    "    while Bernoulli(p) == 0:\n",
    "        c+=1\n",
    "    return c"
   ]
  },
  {
   "cell_type": "code",
   "execution_count": 8,
   "metadata": {},
   "outputs": [
    {
     "name": "stdout",
     "output_type": "stream",
     "text": [
      "Estimación de la media para una distribución geométrica con parámetro p = 0.4, bajo una muestra de 1000 observaciones es: 2.595\n"
     ]
    }
   ],
   "source": [
    "# Prueba\n",
    "p = 0.4\n",
    "n = 1000\n",
    "m = 0\n",
    "for _ in range(n):\n",
    "    m += Geometrica(p)\n",
    "print(\"Estimación de la media para una distribución geométrica con parámetro p = {0},\\\n",
    " bajo una muestra de {1} observaciones es: {2}\".format(p,n,m/n))"
   ]
  },
  {
   "cell_type": "markdown",
   "metadata": {},
   "source": [
    "## Ejercicio Moral:\n",
    "Con los procedimientos ya mostrados, simule una variable aleatoria uniforme discreta, una $Binom(n,p)$, una $NegBinom(r,p)$ y $Poisson(\\lambda)$, escriba el procedimiento de cómo realizarlo y el código en forma de función para cada variable aleatoria."
   ]
  },
  {
   "cell_type": "markdown",
   "metadata": {},
   "source": [
    "## *La recursión como mejor amiga*\n",
    "\n",
    "Ahora utilizaremos la recursión para simular las v.a's $Binom(n,p)$ y $Poisson(\\lambda)$.\n",
    "\n",
    "### Binomial\n",
    "\n",
    "Notemos que si $X\\thicksim Binom(n,p)$ entonces:\n",
    "$$\\mathbb{P}(X = i+1) = \\frac{n-i}{i+1}\\frac{p}{1-p}\\mathbb{P}(X = i)\\qquad \\forall i\\in\\{0, \\cdots, n-1\\}$$\n",
    "\n",
    "\\begin{align}\n",
    "\\frac{n-i}{i+1}\\frac{p}{1-p}\\mathbb{P}(X = i)& = \\frac{n-i}{i+1}\\frac{p}{1-p} {n \\choose i}p^{i}(1-p)^{n-i}\\\\\n",
    "& = \\frac{n-i}{i+1} \\frac{n!}{(n-i)! i!} \\frac{p}{1-p}p^{i}(1-p)^{n-i}\\\\\n",
    "& = \\frac{n!}{(n-(i+1))!(i+1)!}p^{i+1}(1-p)^{n-(i+1)}\\\\\n",
    "& = {n \\choose i+1} p^{i+1}(1-p)^{n-(i+1)}\\\\\n",
    "& = \\mathbb{P}(X = i+1)\n",
    "\\end{align}"
   ]
  },
  {
   "cell_type": "code",
   "execution_count": 10,
   "metadata": {},
   "outputs": [],
   "source": [
    "def Binomial(n,p): # Recordar la discreta finita\n",
    "    U = unif(0,1)\n",
    "    c = p / (1-p)\n",
    "    q = (1-p)**n # P(X=0)\n",
    "    F = (1-p)**n\n",
    "    i = 0\n",
    "    while U>=F:\n",
    "        q = c*((n-i)/(i+1))*q\n",
    "        F+=q # F = F+q\n",
    "        i+=1\n",
    "    return i"
   ]
  },
  {
   "cell_type": "code",
   "execution_count": 11,
   "metadata": {},
   "outputs": [
    {
     "name": "stdout",
     "output_type": "stream",
     "text": [
      "Media: 4.9949\n",
      "Varianza: 2.4944739899999995\n"
     ]
    }
   ],
   "source": [
    "# Comparando con momentos\n",
    "n = 10\n",
    "p = 0.5\n",
    "m = 10000\n",
    "x = []\n",
    "for _ in range(m):\n",
    "    i= Binomial(n,p)\n",
    "    x.append(i)\n",
    "print(\"Media: {}\\nVarianza: {}\".format(np.mean(x), np.var(x)))"
   ]
  },
  {
   "cell_type": "code",
   "execution_count": 12,
   "metadata": {},
   "outputs": [
    {
     "data": {
      "image/png": "[encoded data removed]",
      "text/plain": [
       "<Figure size 864x576 with 1 Axes>"
      ]
     },
     "metadata": {
      "needs_background": "light"
     },
     "output_type": "display_data"
    }
   ],
   "source": [
    "# Graficando\n",
    "plt.figure(figsize=(12,8))\n",
    "sns.set_style('whitegrid')\n",
    "ax = sns.histplot(x, bins = np.linspace(0,n+1,n+2), stat = 'density')\n",
    "ax.set_title('Distribución Binomial (n = {}, p = {})'.format(n,p),fontsize = 25)\n",
    "ax.set_xlabel('x',fontsize = '20')\n",
    "ax.set_ylabel('Densidad',fontsize = '20')\n",
    "plt.show()"
   ]
  },
  {
   "cell_type": "markdown",
   "metadata": {},
   "source": [
    "### Poisson\n",
    "\n",
    "Nuevamente utilizaremos la siguiente propiedad de recursión para $X\\thicksim Poi(\\lambda)$:\n",
    "$$\\mathbb{P}(X = i+1) = \\frac{\\lambda}{i+1}\\mathbb{P}(X = i)\\qquad \\forall i\\in\\mathbb{N}\\cup\\{0\\}$$\n",
    "$$\\frac{\\lambda}{i+1}\\mathbb{P}(X = i) = \\frac{\\lambda}{i+1}\\frac{\\lambda^{i}e^{-\\lambda}}{i!} = \\frac{\\lambda^{i+1}e^{-\\lambda}}{(i+1)!} = \\mathbb{P}(X = i+1)$$"
   ]
  },
  {
   "cell_type": "code",
   "execution_count": 13,
   "metadata": {},
   "outputs": [],
   "source": [
    "def Poisson(lam):\n",
    "    U = unif(0,1)\n",
    "    p = np.exp(-lam) # P(X=0)\n",
    "    F = np.exp(-lam)\n",
    "    i = 0\n",
    "    while (U>=F):\n",
    "        p*= (lam/(i+1)) # p = p*(lam/(i+1))\n",
    "        F+=p\n",
    "        i+=1\n",
    "    return i"
   ]
  },
  {
   "cell_type": "code",
   "execution_count": 14,
   "metadata": {},
   "outputs": [
    {
     "name": "stdout",
     "output_type": "stream",
     "text": [
      "Media: 4.995\n",
      "Varianza: 5.109175\n"
     ]
    }
   ],
   "source": [
    "# Comparando con momentos\n",
    "lam = 5\n",
    "m = 10000\n",
    "x = []\n",
    "for _ in range(m):\n",
    "    i= Poisson(lam)\n",
    "    x.append(i)\n",
    "print(\"Media: {}\\nVarianza: {}\".format(np.mean(x), np.var(x)))"
   ]
  },
  {
   "cell_type": "code",
   "execution_count": 15,
   "metadata": {},
   "outputs": [
    {
     "data": {
      "image/png": "[encoded data removed]",
      "text/plain": [
       "<Figure size 864x576 with 1 Axes>"
      ]
     },
     "metadata": {},
     "output_type": "display_data"
    }
   ],
   "source": [
    "# Graficando\n",
    "plt.figure(figsize=(12,8))\n",
    "sns.set_style('whitegrid')\n",
    "ax = sns.histplot(x, stat = 'density',binwidth = 1)\n",
    "ax.set_title('Distribución Poisson ($\\lambda$ = {}, m = {})'.format(lam, m),fontsize = 25)\n",
    "ax.set_xlabel('x',fontsize = '20')\n",
    "ax.set_ylabel('Densidad',fontsize = '20')\n",
    "plt.show()"
   ]
  },
  {
   "cell_type": "markdown",
   "metadata": {},
   "source": [
    "# Simular variables aleatorias continuas\n",
    "\n",
    "Ya hemos visto diferentes métodos para simular variables aleatorias discretas, pero ¿cómo podemos simular las continuas?\n",
    "\n",
    "Observemos el siguiente resultado:\n",
    "$\\textbf{Teorema: } \\text{Sea } U\\thicksim Unif(0,1)\\text{ una v.a. uniforme, entonces para toda v.a. continua } X \\text{ con función de }$ \n",
    "$\\text{distribución } F_{X} \\text{ se tiene que la v.a }Y:=F_{X}^{-1}(U) \\text{ tiene función de distribución } F_{X}\\text{ es decir: }$\n",
    "$$X\\overset{d}{=}F_X^{-1}(U)$$\n",
    "\n",
    " Ahora utilicemos este método para simular v.a. continuas.\n",
    " \n",
    " ###  Exponencial\n",
    " \n",
    " Recordemos que dada una v.a. $X\\thicksim Exp(\\lambda)$ entonces:\n",
    " $$F(x)=1-e^{-\\lambda x}\\quad\\forall x\\geq 0$$\n",
    " Entonces:\n",
    " $$F^{-1}(x) = \\frac{-1}{\\lambda}\\ln(1-x)$$\n",
    " De esta manera:\n",
    " $$F^{-1}(U) = \\frac{-1}{\\lambda}\\ln(1-U)\\thicksim Exp(\\lambda)$$"
   ]
  },
  {
   "cell_type": "code",
   "execution_count": 16,
   "metadata": {},
   "outputs": [],
   "source": [
    "def Exponencial(lam):\n",
    "    U = unif(0,1)\n",
    "    x = -np.log(1-U) / lam # exp(lam)\n",
    "    return x"
   ]
  },
  {
   "cell_type": "code",
   "execution_count": 18,
   "metadata": {},
   "outputs": [
    {
     "data": {
      "text/plain": [
       "0.33813726056141125"
      ]
     },
     "execution_count": 18,
     "metadata": {},
     "output_type": "execute_result"
    }
   ],
   "source": [
    "# Prueba\n",
    "lam = 3\n",
    "n = 10000\n",
    "c = 0\n",
    "for i in range(n):\n",
    "    c += Exponencial(lam)\n",
    "c/n"
   ]
  },
  {
   "cell_type": "markdown",
   "metadata": {},
   "source": [
    "### Otro ejemplo\n",
    "Consideremos una variable aleatoria con la siguiente función de densidad:\n",
    "\n",
    "$$f(x):= \\frac{5}{2}x\\sqrt{x}\\mathbb{I}_{(0,1)}(x)$$\n",
    "\n",
    "Veamos que:\n",
    "$$F(x) = \\int_{0}^{x}\\frac{5}{2}t\\sqrt{t}\\, dt = \\int_{0}^{x}\\frac{5}{2}t^{\\frac{3}{2}}\\, dt = t^{\\frac{5}{2}}\\Big|_{0}^{x} = x^{\\frac{5}{2}}$$\n",
    "Entonces:\n",
    "$$F^{-1}(x) = x^{\\frac{2}{5}}$$\n",
    "\n",
    "De esta manera:\n",
    "$$U^{\\frac{2}{5}}\\overset{d}{=} X$$"
   ]
  },
  {
   "cell_type": "code",
   "execution_count": 22,
   "metadata": {},
   "outputs": [
    {
     "name": "stdout",
     "output_type": "stream",
     "text": [
      "0.7453454015749574\n"
     ]
    }
   ],
   "source": [
    "F= lambda x: x**(2/5)\n",
    "U = unif(0,1)\n",
    "x = F(U)\n",
    "print(x)"
   ]
  },
  {
   "cell_type": "markdown",
   "metadata": {},
   "source": [
    "### Ejercicio Moral:\n",
    "Con el método anterior simule una v.a. $Poisson(\\lambda)$ así como v.a.'s con las siguientes funciones de densidad:\n",
    "* $f(x):=x + \\frac{1}{2}\\quad\\forall x\\in(0,1)$\n",
    "* $f(x):= \\frac{1}{\\pi(1+x^2)}\\quad \\forall x\\in\\mathbb{R}\\quad\\quad\\quad\\textit{(Distribución de Cauchy)}$"
   ]
  },
  {
   "cell_type": "markdown",
   "metadata": {},
   "source": [
    "# Usando SciPy.stats\n",
    "\n",
    "Como hemos visto, hay una cantidad enorme de variables aleatorias, con diferentes propiedades y características, por lo que utilizar los métodos anteriormente mencionados en la práctica es algo tedioso, por ello, existen diferentes librerías en Python que nos facilitan este trabajo, la más importante es SciPy.stats, la cual tiene una cantidad enorme de distribuciones y a su vez contiene las propiedades principales de cada una de ellas."
   ]
  },
  {
   "cell_type": "code",
   "execution_count": 5,
   "metadata": {},
   "outputs": [],
   "source": [
    "from scipy.stats import norm, expon, gamma, chi2, t, uniform, bernoulli, binom, geom, poisson"
   ]
  },
  {
   "cell_type": "markdown",
   "metadata": {},
   "source": [
    "## Tabla de distribuciones\n",
    "\n",
    "| Distribución | Nombre SciPy|\n",
    "| :-: | :-: |\n",
    "| Normal - $N(\\mu,\\sigma)$ | norm |\n",
    "| Exponencial - $Exp(\\lambda)$ | expon | \n",
    "| Gamma - $\\Gamma(\\alpha,\\beta)$ | gamma |\n",
    "| Chi-cuadrada- $\\chi^2$| chi2 |\n",
    "| t-student - $t(\\mu,\\sigma,\\nu)$ | t |\n",
    "| Uniforme Continua - $Unif(a,b)$ | uniform |\n",
    "| Bernoulli - $Ber(p)$ | bernoulli |\n",
    "| Binomial - $Binom(n,p)$ | binom |\n",
    "| Geométrica - $Geom(p)$ |geom |\n",
    "| Poisson - $Poisson(\\lambda)$ | poisson |\n",
    "\n",
    "Click <a href=\"https://docs.scipy.org/doc/scipy/reference/stats.html\">aquí</a> para más información sobre todas las distribuciones que ofrece SciPy.stats"
   ]
  },
  {
   "cell_type": "markdown",
   "metadata": {},
   "source": [
    "Dado que no tenemos tiempo suficiente para explolar todas las distribuciones de SciPy, lo que haremos será explorar a la v.a. Normal, es decir, usaremos la función <a href=\"https://docs.scipy.org/doc/scipy/reference/generated/scipy.stats.norm.html#scipy.stats.norm\">norm</a> y exploraremos sus cualidades."
   ]
  },
  {
   "cell_type": "code",
   "execution_count": 7,
   "metadata": {},
   "outputs": [],
   "source": [
    "# Nombrar a la variable\n",
    "\n",
    "# Realizar muestras\n"
   ]
  },
  {
   "cell_type": "code",
   "execution_count": 8,
   "metadata": {},
   "outputs": [],
   "source": [
    "# Función de distribución\n"
   ]
  },
  {
   "cell_type": "code",
   "execution_count": 9,
   "metadata": {},
   "outputs": [],
   "source": [
    "# Función de densidad\n",
    "\n",
    "# 1/np.sqrt(2*np.pi)"
   ]
  },
  {
   "cell_type": "code",
   "execution_count": 10,
   "metadata": {},
   "outputs": [],
   "source": [
    "# Percentiles\n"
   ]
  },
  {
   "cell_type": "code",
   "execution_count": 11,
   "metadata": {},
   "outputs": [],
   "source": [
    "# Media\n"
   ]
  },
  {
   "cell_type": "code",
   "execution_count": 12,
   "metadata": {},
   "outputs": [],
   "source": [
    "# Varianza\n"
   ]
  },
  {
   "cell_type": "code",
   "execution_count": 13,
   "metadata": {},
   "outputs": [],
   "source": [
    "# Desviación estándar\n"
   ]
  },
  {
   "cell_type": "code",
   "execution_count": 14,
   "metadata": {},
   "outputs": [],
   "source": [
    "# Momentos (6)\n"
   ]
  },
  {
   "cell_type": "code",
   "execution_count": null,
   "metadata": {},
   "outputs": [],
   "source": []
  },
  {
   "cell_type": "markdown",
   "metadata": {},
   "source": [
    "## Histograma"
   ]
  },
  {
   "cell_type": "code",
   "execution_count": null,
   "metadata": {},
   "outputs": [],
   "source": []
  },
  {
   "cell_type": "code",
   "execution_count": null,
   "metadata": {},
   "outputs": [],
   "source": []
  },
  {
   "cell_type": "markdown",
   "metadata": {},
   "source": [
    "<a href=\"https://seaborn.pydata.org/generated/seaborn.histplot.html\">Aquí</a> encontrarás más información sobre cómo hacer histogramas con Seaborn, en este <a href=\"https://seaborn.pydata.org/tutorial/color_palettes.html\">link</a> encontrarás algunos ejemplos de cómo usar las paletas de Seaborn y en este verás <a href=\"https://seaborn.pydata.org/examples/index.html\">ejemplos</a> de diferentes gráficos.\n"
   ]
  },
  {
   "cell_type": "code",
   "execution_count": null,
   "metadata": {},
   "outputs": [],
   "source": []
  },
  {
   "cell_type": "code",
   "execution_count": null,
   "metadata": {},
   "outputs": [],
   "source": []
  },
  {
   "cell_type": "code",
   "execution_count": null,
   "metadata": {},
   "outputs": [],
   "source": []
  },
  {
   "cell_type": "code",
   "execution_count": null,
   "metadata": {},
   "outputs": [],
   "source": []
  },
  {
   "cell_type": "code",
   "execution_count": null,
   "metadata": {},
   "outputs": [],
   "source": []
  },
  {
   "cell_type": "markdown",
   "metadata": {},
   "source": [
    "Más información sobre <a href=\"https://seaborn.pydata.org/generated/seaborn.kdeplot.html\">kdeplot</a> y más información sobre diferentes gráficos con distribuciones <a href=\"https://seaborn.pydata.org/tutorial/distributions.html#tutorial-kde\">aquí</a>."
   ]
  }
 ],
 "metadata": {
  "kernelspec": {
   "display_name": "Python 3",
   "language": "python",
   "name": "python3"
  },
  "language_info": {
   "codemirror_mode": {
    "name": "ipython",
    "version": 3
   },
   "file_extension": ".py",
   "mimetype": "text/x-python",
   "name": "python",
   "nbconvert_exporter": "python",
   "pygments_lexer": "ipython3",
   "version": "3.8.5"
  }
 },
 "nbformat": 4,
 "nbformat_minor": 4
}
